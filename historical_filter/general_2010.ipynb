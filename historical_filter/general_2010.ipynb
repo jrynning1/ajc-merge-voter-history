{
 "cells": [
  {
   "cell_type": "code",
   "execution_count": 1,
   "metadata": {},
   "outputs": [],
   "source": [
    "import pandas as pd\n",
    "import datetime\n",
    "import mariadb\n",
    "import numpy as np\n",
    "from pathlib import Path\n",
    "import os"
   ]
  },
  {
   "cell_type": "code",
   "execution_count": 2,
   "metadata": {},
   "outputs": [],
   "source": [
    "# make sure these values are correct for each iteration of this notebook\n",
    "# all other fields should run without changes\n",
    "election_date = '2010-11-02'\n",
    "election_type1 = 'GENERAL ELECTION'\n",
    "election_type2 = 'None'\n",
    "election_type3 = 'None'\n",
    "sql_query = \"SELECT * FROM `ga_sos_voters`.`voter_history_2010`\"\n",
    "output_name = \"general_2010.csv\"\n"
   ]
  },
  {
   "cell_type": "code",
   "execution_count": 3,
   "metadata": {},
   "outputs": [],
   "source": [
    "# Connect to data warehouse with MariaDB\n",
    "try:\n",
    "    conn = mariadb.connect(\n",
    "        user=os.getenv(\"MARIADB_USER\"),\n",
    "        password=os.getenv(\"MARIADB_PASSWORD\"),\n",
    "        host=os.getenv(\"MARIADB_HOST\"),\n",
    "        port=int(os.getenv(\"MARIADB_PORT\"))\n",
    "    )\n",
    "except mariadb.Error as e:\n",
    "    print(f\"Error connecting to MariaDB Platform: {e}\")\n",
    "    sys.exit(1)\n",
    "\n",
    "# Get Cursor\n",
    "cur = conn.cursor()"
   ]
  },
  {
   "cell_type": "code",
   "execution_count": 4,
   "metadata": {},
   "outputs": [
    {
     "name": "stderr",
     "output_type": "stream",
     "text": [
      "/var/folders/2d/dn3_f8x10wzf75hxkv2506g00000gp/T/ipykernel_30341/2992080012.py:2: UserWarning: pandas only supports SQLAlchemy connectable (engine/connection) or database string URI or sqlite3 DBAPI2 connection. Other DBAPI2 objects are not tested. Please consider using SQLAlchemy.\n",
      "  original_table = pd.read_sql(sql_query, conn, dtype='str')\n"
     ]
    }
   ],
   "source": [
    "# pull contents of SQL table into Pandas DataFrame\n",
    "original_table = pd.read_sql(sql_query, conn, dtype='str')"
   ]
  },
  {
   "cell_type": "code",
   "execution_count": 5,
   "metadata": {},
   "outputs": [],
   "source": [
    "# make copy to avoid having to redownload as often\n",
    "df = original_table.copy()"
   ]
  },
  {
   "cell_type": "code",
   "execution_count": 6,
   "metadata": {},
   "outputs": [
    {
     "data": {
      "text/html": [
       "<div>\n",
       "<style scoped>\n",
       "    .dataframe tbody tr th:only-of-type {\n",
       "        vertical-align: middle;\n",
       "    }\n",
       "\n",
       "    .dataframe tbody tr th {\n",
       "        vertical-align: top;\n",
       "    }\n",
       "\n",
       "    .dataframe thead th {\n",
       "        text-align: right;\n",
       "    }\n",
       "</style>\n",
       "<table border=\"1\" class=\"dataframe\">\n",
       "  <thead>\n",
       "    <tr style=\"text-align: right;\">\n",
       "      <th></th>\n",
       "      <th>county_num</th>\n",
       "      <th>registration_num</th>\n",
       "      <th>election_date</th>\n",
       "      <th>election_type</th>\n",
       "      <th>party</th>\n",
       "      <th>absentee</th>\n",
       "      <th>provisional</th>\n",
       "      <th>supplemental</th>\n",
       "      <th>data_from_history_year_file</th>\n",
       "      <th>ajc_data_acquisition_year</th>\n",
       "      <th>ajc_data_loader_initials</th>\n",
       "    </tr>\n",
       "  </thead>\n",
       "  <tbody>\n",
       "    <tr>\n",
       "      <th>0</th>\n",
       "      <td>001</td>\n",
       "      <td>00004137</td>\n",
       "      <td>2010-11-02</td>\n",
       "      <td>003</td>\n",
       "      <td></td>\n",
       "      <td></td>\n",
       "      <td>None</td>\n",
       "      <td>None</td>\n",
       "      <td>2010</td>\n",
       "      <td>2016</td>\n",
       "      <td>JLP</td>\n",
       "    </tr>\n",
       "    <tr>\n",
       "      <th>1</th>\n",
       "      <td>001</td>\n",
       "      <td>00045353</td>\n",
       "      <td>2010-07-20</td>\n",
       "      <td>001</td>\n",
       "      <td>R</td>\n",
       "      <td></td>\n",
       "      <td>None</td>\n",
       "      <td>None</td>\n",
       "      <td>2010</td>\n",
       "      <td>2016</td>\n",
       "      <td>JLP</td>\n",
       "    </tr>\n",
       "    <tr>\n",
       "      <th>2</th>\n",
       "      <td>001</td>\n",
       "      <td>00045353</td>\n",
       "      <td>2010-08-10</td>\n",
       "      <td>002</td>\n",
       "      <td>R</td>\n",
       "      <td></td>\n",
       "      <td>None</td>\n",
       "      <td>None</td>\n",
       "      <td>2010</td>\n",
       "      <td>2016</td>\n",
       "      <td>JLP</td>\n",
       "    </tr>\n",
       "    <tr>\n",
       "      <th>3</th>\n",
       "      <td>001</td>\n",
       "      <td>00045353</td>\n",
       "      <td>2010-11-02</td>\n",
       "      <td>003</td>\n",
       "      <td></td>\n",
       "      <td></td>\n",
       "      <td>None</td>\n",
       "      <td>None</td>\n",
       "      <td>2010</td>\n",
       "      <td>2016</td>\n",
       "      <td>JLP</td>\n",
       "    </tr>\n",
       "    <tr>\n",
       "      <th>4</th>\n",
       "      <td>001</td>\n",
       "      <td>00045572</td>\n",
       "      <td>2010-07-20</td>\n",
       "      <td>001</td>\n",
       "      <td>R</td>\n",
       "      <td></td>\n",
       "      <td>None</td>\n",
       "      <td>None</td>\n",
       "      <td>2010</td>\n",
       "      <td>2016</td>\n",
       "      <td>JLP</td>\n",
       "    </tr>\n",
       "    <tr>\n",
       "      <th>5</th>\n",
       "      <td>001</td>\n",
       "      <td>00045572</td>\n",
       "      <td>2010-11-02</td>\n",
       "      <td>003</td>\n",
       "      <td></td>\n",
       "      <td></td>\n",
       "      <td>None</td>\n",
       "      <td>None</td>\n",
       "      <td>2010</td>\n",
       "      <td>2016</td>\n",
       "      <td>JLP</td>\n",
       "    </tr>\n",
       "    <tr>\n",
       "      <th>6</th>\n",
       "      <td>001</td>\n",
       "      <td>00045951</td>\n",
       "      <td>2010-07-20</td>\n",
       "      <td>001</td>\n",
       "      <td>R</td>\n",
       "      <td></td>\n",
       "      <td>None</td>\n",
       "      <td>None</td>\n",
       "      <td>2010</td>\n",
       "      <td>2016</td>\n",
       "      <td>JLP</td>\n",
       "    </tr>\n",
       "    <tr>\n",
       "      <th>7</th>\n",
       "      <td>001</td>\n",
       "      <td>00045951</td>\n",
       "      <td>2010-08-10</td>\n",
       "      <td>002</td>\n",
       "      <td>R</td>\n",
       "      <td></td>\n",
       "      <td>None</td>\n",
       "      <td>None</td>\n",
       "      <td>2010</td>\n",
       "      <td>2016</td>\n",
       "      <td>JLP</td>\n",
       "    </tr>\n",
       "    <tr>\n",
       "      <th>8</th>\n",
       "      <td>001</td>\n",
       "      <td>00045951</td>\n",
       "      <td>2010-11-02</td>\n",
       "      <td>003</td>\n",
       "      <td></td>\n",
       "      <td></td>\n",
       "      <td>None</td>\n",
       "      <td>None</td>\n",
       "      <td>2010</td>\n",
       "      <td>2016</td>\n",
       "      <td>JLP</td>\n",
       "    </tr>\n",
       "    <tr>\n",
       "      <th>9</th>\n",
       "      <td>001</td>\n",
       "      <td>00047002</td>\n",
       "      <td>2010-07-20</td>\n",
       "      <td>001</td>\n",
       "      <td>R</td>\n",
       "      <td></td>\n",
       "      <td>None</td>\n",
       "      <td>None</td>\n",
       "      <td>2010</td>\n",
       "      <td>2016</td>\n",
       "      <td>JLP</td>\n",
       "    </tr>\n",
       "    <tr>\n",
       "      <th>10</th>\n",
       "      <td>001</td>\n",
       "      <td>00047002</td>\n",
       "      <td>2010-11-02</td>\n",
       "      <td>003</td>\n",
       "      <td></td>\n",
       "      <td></td>\n",
       "      <td>None</td>\n",
       "      <td>None</td>\n",
       "      <td>2010</td>\n",
       "      <td>2016</td>\n",
       "      <td>JLP</td>\n",
       "    </tr>\n",
       "    <tr>\n",
       "      <th>11</th>\n",
       "      <td>001</td>\n",
       "      <td>00047002</td>\n",
       "      <td>2010-11-30</td>\n",
       "      <td>004</td>\n",
       "      <td></td>\n",
       "      <td></td>\n",
       "      <td>None</td>\n",
       "      <td>None</td>\n",
       "      <td>2010</td>\n",
       "      <td>2016</td>\n",
       "      <td>JLP</td>\n",
       "    </tr>\n",
       "    <tr>\n",
       "      <th>12</th>\n",
       "      <td>001</td>\n",
       "      <td>00069178</td>\n",
       "      <td>2010-07-20</td>\n",
       "      <td>001</td>\n",
       "      <td>R</td>\n",
       "      <td>Y</td>\n",
       "      <td>None</td>\n",
       "      <td>None</td>\n",
       "      <td>2010</td>\n",
       "      <td>2016</td>\n",
       "      <td>JLP</td>\n",
       "    </tr>\n",
       "    <tr>\n",
       "      <th>13</th>\n",
       "      <td>001</td>\n",
       "      <td>00069178</td>\n",
       "      <td>2010-08-10</td>\n",
       "      <td>002</td>\n",
       "      <td>R</td>\n",
       "      <td></td>\n",
       "      <td>None</td>\n",
       "      <td>None</td>\n",
       "      <td>2010</td>\n",
       "      <td>2016</td>\n",
       "      <td>JLP</td>\n",
       "    </tr>\n",
       "    <tr>\n",
       "      <th>14</th>\n",
       "      <td>001</td>\n",
       "      <td>00069178</td>\n",
       "      <td>2010-11-02</td>\n",
       "      <td>003</td>\n",
       "      <td></td>\n",
       "      <td>Y</td>\n",
       "      <td>None</td>\n",
       "      <td>None</td>\n",
       "      <td>2010</td>\n",
       "      <td>2016</td>\n",
       "      <td>JLP</td>\n",
       "    </tr>\n",
       "    <tr>\n",
       "      <th>15</th>\n",
       "      <td>001</td>\n",
       "      <td>00069178</td>\n",
       "      <td>2010-11-30</td>\n",
       "      <td>004</td>\n",
       "      <td></td>\n",
       "      <td></td>\n",
       "      <td>None</td>\n",
       "      <td>None</td>\n",
       "      <td>2010</td>\n",
       "      <td>2016</td>\n",
       "      <td>JLP</td>\n",
       "    </tr>\n",
       "    <tr>\n",
       "      <th>16</th>\n",
       "      <td>001</td>\n",
       "      <td>00121448</td>\n",
       "      <td>2010-07-20</td>\n",
       "      <td>001</td>\n",
       "      <td>R</td>\n",
       "      <td>Y</td>\n",
       "      <td>None</td>\n",
       "      <td>None</td>\n",
       "      <td>2010</td>\n",
       "      <td>2016</td>\n",
       "      <td>JLP</td>\n",
       "    </tr>\n",
       "    <tr>\n",
       "      <th>17</th>\n",
       "      <td>001</td>\n",
       "      <td>00121448</td>\n",
       "      <td>2010-08-10</td>\n",
       "      <td>002</td>\n",
       "      <td>R</td>\n",
       "      <td>Y</td>\n",
       "      <td>None</td>\n",
       "      <td>None</td>\n",
       "      <td>2010</td>\n",
       "      <td>2016</td>\n",
       "      <td>JLP</td>\n",
       "    </tr>\n",
       "    <tr>\n",
       "      <th>18</th>\n",
       "      <td>001</td>\n",
       "      <td>00121448</td>\n",
       "      <td>2010-11-02</td>\n",
       "      <td>003</td>\n",
       "      <td></td>\n",
       "      <td>Y</td>\n",
       "      <td>None</td>\n",
       "      <td>None</td>\n",
       "      <td>2010</td>\n",
       "      <td>2016</td>\n",
       "      <td>JLP</td>\n",
       "    </tr>\n",
       "    <tr>\n",
       "      <th>19</th>\n",
       "      <td>001</td>\n",
       "      <td>00121448</td>\n",
       "      <td>2010-11-30</td>\n",
       "      <td>004</td>\n",
       "      <td></td>\n",
       "      <td></td>\n",
       "      <td>None</td>\n",
       "      <td>None</td>\n",
       "      <td>2010</td>\n",
       "      <td>2016</td>\n",
       "      <td>JLP</td>\n",
       "    </tr>\n",
       "  </tbody>\n",
       "</table>\n",
       "</div>"
      ],
      "text/plain": [
       "   county_num registration_num election_date election_type party absentee  \\\n",
       "0         001         00004137    2010-11-02           003                  \n",
       "1         001         00045353    2010-07-20           001     R            \n",
       "2         001         00045353    2010-08-10           002     R            \n",
       "3         001         00045353    2010-11-02           003                  \n",
       "4         001         00045572    2010-07-20           001     R            \n",
       "5         001         00045572    2010-11-02           003                  \n",
       "6         001         00045951    2010-07-20           001     R            \n",
       "7         001         00045951    2010-08-10           002     R            \n",
       "8         001         00045951    2010-11-02           003                  \n",
       "9         001         00047002    2010-07-20           001     R            \n",
       "10        001         00047002    2010-11-02           003                  \n",
       "11        001         00047002    2010-11-30           004                  \n",
       "12        001         00069178    2010-07-20           001     R        Y   \n",
       "13        001         00069178    2010-08-10           002     R            \n",
       "14        001         00069178    2010-11-02           003              Y   \n",
       "15        001         00069178    2010-11-30           004                  \n",
       "16        001         00121448    2010-07-20           001     R        Y   \n",
       "17        001         00121448    2010-08-10           002     R        Y   \n",
       "18        001         00121448    2010-11-02           003              Y   \n",
       "19        001         00121448    2010-11-30           004                  \n",
       "\n",
       "   provisional supplemental data_from_history_year_file  \\\n",
       "0         None         None                        2010   \n",
       "1         None         None                        2010   \n",
       "2         None         None                        2010   \n",
       "3         None         None                        2010   \n",
       "4         None         None                        2010   \n",
       "5         None         None                        2010   \n",
       "6         None         None                        2010   \n",
       "7         None         None                        2010   \n",
       "8         None         None                        2010   \n",
       "9         None         None                        2010   \n",
       "10        None         None                        2010   \n",
       "11        None         None                        2010   \n",
       "12        None         None                        2010   \n",
       "13        None         None                        2010   \n",
       "14        None         None                        2010   \n",
       "15        None         None                        2010   \n",
       "16        None         None                        2010   \n",
       "17        None         None                        2010   \n",
       "18        None         None                        2010   \n",
       "19        None         None                        2010   \n",
       "\n",
       "   ajc_data_acquisition_year ajc_data_loader_initials  \n",
       "0                       2016                      JLP  \n",
       "1                       2016                      JLP  \n",
       "2                       2016                      JLP  \n",
       "3                       2016                      JLP  \n",
       "4                       2016                      JLP  \n",
       "5                       2016                      JLP  \n",
       "6                       2016                      JLP  \n",
       "7                       2016                      JLP  \n",
       "8                       2016                      JLP  \n",
       "9                       2016                      JLP  \n",
       "10                      2016                      JLP  \n",
       "11                      2016                      JLP  \n",
       "12                      2016                      JLP  \n",
       "13                      2016                      JLP  \n",
       "14                      2016                      JLP  \n",
       "15                      2016                      JLP  \n",
       "16                      2016                      JLP  \n",
       "17                      2016                      JLP  \n",
       "18                      2016                      JLP  \n",
       "19                      2016                      JLP  "
      ]
     },
     "execution_count": 6,
     "metadata": {},
     "output_type": "execute_result"
    }
   ],
   "source": [
    "df.head(20)"
   ]
  },
  {
   "cell_type": "code",
   "execution_count": 7,
   "metadata": {},
   "outputs": [
    {
     "name": "stderr",
     "output_type": "stream",
     "text": [
      "/var/folders/2d/dn3_f8x10wzf75hxkv2506g00000gp/T/ipykernel_30341/470233134.py:2: UserWarning: pandas only supports SQLAlchemy connectable (engine/connection) or database string URI or sqlite3 DBAPI2 connection. Other DBAPI2 objects are not tested. Please consider using SQLAlchemy.\n",
      "  county_code_df = pd.read_sql(\"SELECT * FROM `ga_sos_voters`.`lu_countycode`\", conn, dtype='str')\n"
     ]
    }
   ],
   "source": [
    "# pull county code list and make dictionary\n",
    "county_code_df = pd.read_sql(\"SELECT * FROM `ga_sos_voters`.`lu_countycode`\", conn, dtype='str')"
   ]
  },
  {
   "cell_type": "code",
   "execution_count": 8,
   "metadata": {},
   "outputs": [],
   "source": [
    "county_code_dict = dict(zip(county_code_df.COUNTY_CODE, county_code_df.COUNTY))"
   ]
  },
  {
   "cell_type": "code",
   "execution_count": 9,
   "metadata": {},
   "outputs": [],
   "source": [
    "# make function to use dictionaries to fill in DataFrame columns with expanded information\n",
    "def dict_lookup_list(column, dictionary):\n",
    "    county_list = []\n",
    "    for entry in column:\n",
    "        if len(entry) == 3:\n",
    "            county_name = dictionary.get(f'{entry}')\n",
    "            county_list.append(county_name)\n",
    "        else:\n",
    "            county_list.append(entry)\n",
    "    return county_list"
   ]
  },
  {
   "cell_type": "code",
   "execution_count": 10,
   "metadata": {},
   "outputs": [],
   "source": [
    "# use dict_lookup_list() to fill in 'county_name' and get rid of 'county_num'\n",
    "if 'county_num' in df.columns:\n",
    "    df.insert(0, 'county_name', dict_lookup_list(df.county_num, county_code_dict))"
   ]
  },
  {
   "cell_type": "code",
   "execution_count": 11,
   "metadata": {},
   "outputs": [
    {
     "data": {
      "text/plain": [
       "0          001\n",
       "1          001\n",
       "2          001\n",
       "3          001\n",
       "4          001\n",
       "          ... \n",
       "4841788    159\n",
       "4841789    159\n",
       "4841790    159\n",
       "4841791    159\n",
       "4841792    159\n",
       "Name: county_num, Length: 4841793, dtype: object"
      ]
     },
     "execution_count": 11,
     "metadata": {},
     "output_type": "execute_result"
    }
   ],
   "source": [
    "df.pop('county_num')"
   ]
  },
  {
   "cell_type": "code",
   "execution_count": 12,
   "metadata": {},
   "outputs": [],
   "source": [
    "# rename voter_registration_number column to fit other data warehouse tables\n",
    "df = df.rename(columns={'registration_num': 'voter_registration_number'})"
   ]
  },
  {
   "cell_type": "code",
   "execution_count": 13,
   "metadata": {},
   "outputs": [],
   "source": [
    "# function to add index to new DataFrame\n",
    "def add_row_names(column):\n",
    "    counter = 0\n",
    "    row_name_list = []\n",
    "    for row in column:\n",
    "        counter += 1\n",
    "        row_name_list.append(counter)\n",
    "    return row_name_list"
   ]
  },
  {
   "cell_type": "code",
   "execution_count": 14,
   "metadata": {},
   "outputs": [],
   "source": [
    "if 'row_names' not in df.columns:\n",
    "    df.insert(0, 'row_names', add_row_names(df['county_name']))"
   ]
  },
  {
   "cell_type": "code",
   "execution_count": 15,
   "metadata": {},
   "outputs": [
    {
     "name": "stderr",
     "output_type": "stream",
     "text": [
      "/var/folders/2d/dn3_f8x10wzf75hxkv2506g00000gp/T/ipykernel_30341/2221766173.py:2: UserWarning: pandas only supports SQLAlchemy connectable (engine/connection) or database string URI or sqlite3 DBAPI2 connection. Other DBAPI2 objects are not tested. Please consider using SQLAlchemy.\n",
      "  election_type_df = pd.read_sql(\"SELECT * FROM `ga_sos_voters`.`lu_election_type`\", conn)\n"
     ]
    }
   ],
   "source": [
    "# make dictionary of election types\n",
    "election_type_df = pd.read_sql(\"SELECT * FROM `ga_sos_voters`.`lu_election_type`\", conn)"
   ]
  },
  {
   "cell_type": "code",
   "execution_count": 16,
   "metadata": {},
   "outputs": [],
   "source": [
    "election_type_dict = dict(zip(election_type_df.type_of_election, election_type_df.description))"
   ]
  },
  {
   "cell_type": "code",
   "execution_count": 17,
   "metadata": {},
   "outputs": [],
   "source": [
    "# Make election types all caps to match other tables\n",
    "df['election_type'] = dict_lookup_list(df['election_type'], election_type_dict)"
   ]
  },
  {
   "cell_type": "code",
   "execution_count": 18,
   "metadata": {},
   "outputs": [],
   "source": [
    "df['election_type'] = df['election_type'].str.upper()"
   ]
  },
  {
   "cell_type": "code",
   "execution_count": 19,
   "metadata": {},
   "outputs": [],
   "source": [
    "# get rid of \"None\" values to match other tables in data warehouse\n",
    "\n",
    "def remove_nones(column):\n",
    "    entry_list = []\n",
    "    for entry in column:\n",
    "        if entry == \"None\":\n",
    "            entry_list.append(\"\")\n",
    "        else:\n",
    "            entry_list.append(entry)\n",
    "    return entry_list"
   ]
  },
  {
   "cell_type": "code",
   "execution_count": 20,
   "metadata": {},
   "outputs": [],
   "source": [
    "df['county_name'] = remove_nones(df['county_name'])"
   ]
  },
  {
   "cell_type": "code",
   "execution_count": 21,
   "metadata": {},
   "outputs": [],
   "source": [
    "df['voter_registration_number'] = remove_nones(df['voter_registration_number'])"
   ]
  },
  {
   "cell_type": "code",
   "execution_count": 22,
   "metadata": {},
   "outputs": [],
   "source": [
    "df['election_date'] = remove_nones(df['election_date'])"
   ]
  },
  {
   "cell_type": "code",
   "execution_count": 23,
   "metadata": {},
   "outputs": [],
   "source": [
    "df['election_type'] = remove_nones(df['election_type'])"
   ]
  },
  {
   "cell_type": "code",
   "execution_count": 24,
   "metadata": {},
   "outputs": [],
   "source": [
    "df['party'] = remove_nones(df['party'])"
   ]
  },
  {
   "cell_type": "code",
   "execution_count": 25,
   "metadata": {},
   "outputs": [],
   "source": [
    "df['absentee'] = remove_nones(df['absentee'])"
   ]
  },
  {
   "cell_type": "code",
   "execution_count": 26,
   "metadata": {},
   "outputs": [],
   "source": [
    "df['provisional'] = remove_nones(df['provisional'])"
   ]
  },
  {
   "cell_type": "code",
   "execution_count": 27,
   "metadata": {},
   "outputs": [],
   "source": [
    "df['supplemental'] = remove_nones(df['supplemental'])"
   ]
  },
  {
   "cell_type": "code",
   "execution_count": 28,
   "metadata": {},
   "outputs": [],
   "source": [
    "# add or delete columns not used in other tables\n",
    "if 'ballot_style' not in df.columns:\n",
    "    df.insert(6, 'ballot_style', '')"
   ]
  },
  {
   "cell_type": "code",
   "execution_count": 29,
   "metadata": {},
   "outputs": [],
   "source": [
    "if 'data_from_history_year_file' in df.columns:\n",
    "    df.pop('data_from_history_year_file')"
   ]
  },
  {
   "cell_type": "code",
   "execution_count": 30,
   "metadata": {},
   "outputs": [],
   "source": [
    "if 'ajc_data_acquisition_year' in df.columns:\n",
    "    df.pop('ajc_data_acquisition_year')"
   ]
  },
  {
   "cell_type": "code",
   "execution_count": 31,
   "metadata": {},
   "outputs": [],
   "source": [
    "if 'ajc_data_loader_initials' in df.columns:\n",
    "    df.pop('ajc_data_loader_initials')"
   ]
  },
  {
   "cell_type": "code",
   "execution_count": 32,
   "metadata": {},
   "outputs": [
    {
     "data": {
      "text/plain": [
       "election_type\n",
       "GENERAL ELECTION                           2568080\n",
       "GENERAL PRIMARY ELECTION                    804377\n",
       "GENERAL PRIMARY RUNOFF                      669725\n",
       "GENERAL PRIMARY/SPECIAL ELECTION            294948\n",
       "GENERAL ELECTION RUNOFF                     290322\n",
       "SPECIAL ELECTION                             76550\n",
       "GENERAL/SPECIAL ELECTION                     54649\n",
       "SPECIAL ELECTION RUNOFF                      54622\n",
       "GENERAL PRIMARY/SPECIAL ELECTION RUNOFF      18535\n",
       "MUNICIPAL SPECIAL ELECTION                    5316\n",
       "MUNICIPAL ELECTION                            4536\n",
       "MUNICIPAL ELECTION RUNOFF                      128\n",
       "MUNICIPAL SPECIAL ELECTION RUNOFF                5\n",
       "Name: count, dtype: int64"
      ]
     },
     "execution_count": 32,
     "metadata": {},
     "output_type": "execute_result"
    }
   ],
   "source": [
    "# there are both \"GENERAL ELECTION\" values and \"GENERAL/SPECIAL ELECTION\" values, and the vast majority are not duplicates\n",
    "# I will use both values to filter and dedupe so that I am not missing 1/3 of the voters\n",
    "# it would be a good idea to run this same notebook on more recent tables to check how this process compares to what the state does to get their values filtered\n",
    "df.election_type.value_counts()"
   ]
  },
  {
   "cell_type": "code",
   "execution_count": 33,
   "metadata": {},
   "outputs": [
    {
     "data": {
      "text/plain": [
       "party\n",
       "     2568002\n",
       "R         50\n",
       "D         28\n",
       "Name: count, dtype: int64"
      ]
     },
     "execution_count": 33,
     "metadata": {},
     "output_type": "execute_result"
    }
   ],
   "source": [
    "df[df['election_type'] == 'GENERAL ELECTION'].party.value_counts()"
   ]
  },
  {
   "cell_type": "code",
   "execution_count": 34,
   "metadata": {},
   "outputs": [],
   "source": [
    "filtered_date_df = df[df['election_date'] == election_date]"
   ]
  },
  {
   "cell_type": "code",
   "execution_count": 35,
   "metadata": {},
   "outputs": [],
   "source": [
    "filtered_election_df = df[(df['election_type'] == election_type1) | (df['election_type'] == election_type2) | (df['election_type'] == election_type3)]"
   ]
  },
  {
   "cell_type": "code",
   "execution_count": 36,
   "metadata": {},
   "outputs": [],
   "source": [
    "filtered_date_election_df = filtered_election_df[filtered_election_df['election_date'] == election_date]"
   ]
  },
  {
   "cell_type": "code",
   "execution_count": 37,
   "metadata": {},
   "outputs": [],
   "source": [
    "filtered_date_election_df.row_names = add_row_names(filtered_date_election_df['county_name'])"
   ]
  },
  {
   "cell_type": "code",
   "execution_count": 38,
   "metadata": {},
   "outputs": [
    {
     "data": {
      "text/html": [
       "<div>\n",
       "<style scoped>\n",
       "    .dataframe tbody tr th:only-of-type {\n",
       "        vertical-align: middle;\n",
       "    }\n",
       "\n",
       "    .dataframe tbody tr th {\n",
       "        vertical-align: top;\n",
       "    }\n",
       "\n",
       "    .dataframe thead th {\n",
       "        text-align: right;\n",
       "    }\n",
       "</style>\n",
       "<table border=\"1\" class=\"dataframe\">\n",
       "  <thead>\n",
       "    <tr style=\"text-align: right;\">\n",
       "      <th></th>\n",
       "      <th>row_names</th>\n",
       "      <th>county_name</th>\n",
       "      <th>voter_registration_number</th>\n",
       "      <th>election_date</th>\n",
       "      <th>election_type</th>\n",
       "      <th>party</th>\n",
       "      <th>ballot_style</th>\n",
       "      <th>absentee</th>\n",
       "      <th>provisional</th>\n",
       "      <th>supplemental</th>\n",
       "    </tr>\n",
       "  </thead>\n",
       "  <tbody>\n",
       "  </tbody>\n",
       "</table>\n",
       "</div>"
      ],
      "text/plain": [
       "Empty DataFrame\n",
       "Columns: [row_names, county_name, voter_registration_number, election_date, election_type, party, ballot_style, absentee, provisional, supplemental]\n",
       "Index: []"
      ]
     },
     "execution_count": 38,
     "metadata": {},
     "output_type": "execute_result"
    }
   ],
   "source": [
    "# it is hard to tell why there are duplicates with the general and general/special election types\n",
    "filtered_date_election_df[filtered_date_election_df['voter_registration_number'].duplicated(keep=False)].sort_values('voter_registration_number')"
   ]
  },
  {
   "cell_type": "code",
   "execution_count": 39,
   "metadata": {},
   "outputs": [],
   "source": [
    "deduped_df = filtered_date_election_df.drop_duplicates('voter_registration_number')"
   ]
  },
  {
   "cell_type": "code",
   "execution_count": 40,
   "metadata": {},
   "outputs": [
    {
     "data": {
      "text/plain": [
       "0"
      ]
     },
     "execution_count": 40,
     "metadata": {},
     "output_type": "execute_result"
    }
   ],
   "source": [
    "# there are 114 duplicated entries, and after deduping the DataFrame I have 114 fewer entries\n",
    "len(filtered_date_election_df) - len(deduped_df)"
   ]
  },
  {
   "cell_type": "code",
   "execution_count": 41,
   "metadata": {},
   "outputs": [
    {
     "data": {
      "text/plain": [
       "0"
      ]
     },
     "execution_count": 41,
     "metadata": {},
     "output_type": "execute_result"
    }
   ],
   "source": [
    "len(filtered_date_election_df[filtered_date_election_df['voter_registration_number'].duplicated()])"
   ]
  },
  {
   "cell_type": "code",
   "execution_count": 42,
   "metadata": {},
   "outputs": [
    {
     "data": {
      "text/plain": [
       "2568080"
      ]
     },
     "execution_count": 42,
     "metadata": {},
     "output_type": "execute_result"
    }
   ],
   "source": [
    "len(filtered_date_election_df.drop_duplicates('voter_registration_number'))"
   ]
  },
  {
   "cell_type": "code",
   "execution_count": 43,
   "metadata": {},
   "outputs": [
    {
     "data": {
      "text/plain": [
       "party\n",
       "     2568002\n",
       "R         50\n",
       "D         28\n",
       "Name: count, dtype: int64"
      ]
     },
     "execution_count": 43,
     "metadata": {},
     "output_type": "execute_result"
    }
   ],
   "source": [
    "filtered_date_election_df.party.value_counts()"
   ]
  },
  {
   "cell_type": "code",
   "execution_count": 44,
   "metadata": {},
   "outputs": [
    {
     "data": {
      "text/plain": [
       "election_type   \n",
       "GENERAL ELECTION    2568080\n",
       "Name: count, dtype: int64"
      ]
     },
     "execution_count": 44,
     "metadata": {},
     "output_type": "execute_result"
    }
   ],
   "source": [
    "filtered_date_election_df.value_counts(['election_type'])"
   ]
  },
  {
   "cell_type": "code",
   "execution_count": 45,
   "metadata": {},
   "outputs": [],
   "source": [
    "output_path = Path().cwd().parent.joinpath('output_csv/general_2010.csv')\n",
    "filtered_date_election_df.to_csv(output_path)"
   ]
  }
 ],
 "metadata": {
  "kernelspec": {
   "display_name": "Python 3",
   "language": "python",
   "name": "python3"
  },
  "language_info": {
   "codemirror_mode": {
    "name": "ipython",
    "version": 3
   },
   "file_extension": ".py",
   "mimetype": "text/x-python",
   "name": "python",
   "nbconvert_exporter": "python",
   "pygments_lexer": "ipython3",
   "version": "3.11.9"
  }
 },
 "nbformat": 4,
 "nbformat_minor": 2
}
