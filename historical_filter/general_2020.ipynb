{
 "cells": [
  {
   "cell_type": "code",
   "execution_count": 47,
   "metadata": {},
   "outputs": [],
   "source": [
    "# DO NOT USE SOS 2020 VOTER HISTORY FILE FROM WEBSITE. IT IS MISSING VOTERS.\n",
    "# USE \"voter_history_2020_nov3_elex_only_pullednov30\" from data warehouse"
   ]
  },
  {
   "cell_type": "code",
   "execution_count": 48,
   "metadata": {},
   "outputs": [],
   "source": [
    "import pandas as pd\n",
    "import datetime\n",
    "import mariadb\n",
    "import numpy as np\n",
    "import os\n",
    "from pathlib import Path"
   ]
  },
  {
   "cell_type": "code",
   "execution_count": 49,
   "metadata": {},
   "outputs": [],
   "source": [
    "# make sure these values are correct for each iteration of this notebook\n",
    "# all other fields should run without changes\n",
    "election_date = '2020-11-03'\n",
    "election_type1 = 'GENERAL ELECTION'\n",
    "election_type2 = 'None'\n",
    "election_type3 = 'None'\n",
    "sql_query = \"SELECT * FROM `ga_sos_voters`.`voter_history_2020_nov3_elex_only_pullednov30`\"\n",
    "output_name = \"general_2020.csv\"\n"
   ]
  },
  {
   "cell_type": "code",
   "execution_count": 50,
   "metadata": {},
   "outputs": [],
   "source": [
    "# Connect to data warehouse with MariaDB\n",
    "try:\n",
    "    conn = mariadb.connect(\n",
    "        user=os.getenv(\"MARIADB_USER\"),\n",
    "        password=os.getenv(\"MARIADB_PASSWORD\"),\n",
    "        host=os.getenv(\"MARIADB_HOST\"),\n",
    "        port=int(os.getenv(\"MARIADB_PORT\"))\n",
    "    )\n",
    "except mariadb.Error as e:\n",
    "    print(f\"Error connecting to MariaDB Platform: {e}\")\n",
    "    sys.exit(1)\n",
    "\n",
    "# Get Cursor\n",
    "cur = conn.cursor()"
   ]
  },
  {
   "cell_type": "code",
   "execution_count": 51,
   "metadata": {},
   "outputs": [],
   "source": [
    "# pull contents of SQL table into Pandas DataFrame\n",
    "original_table = pd.read_sql(sql_query, conn, dtype='str')"
   ]
  },
  {
   "cell_type": "code",
   "execution_count": null,
   "metadata": {},
   "outputs": [],
   "source": [
    "# make copy to avoid having to redownload as often\n",
    "df = original_table.copy()"
   ]
  },
  {
   "cell_type": "code",
   "execution_count": null,
   "metadata": {},
   "outputs": [
    {
     "data": {
      "text/html": [
       "<div>\n",
       "<style scoped>\n",
       "    .dataframe tbody tr th:only-of-type {\n",
       "        vertical-align: middle;\n",
       "    }\n",
       "\n",
       "    .dataframe tbody tr th {\n",
       "        vertical-align: top;\n",
       "    }\n",
       "\n",
       "    .dataframe thead th {\n",
       "        text-align: right;\n",
       "    }\n",
       "</style>\n",
       "<table border=\"1\" class=\"dataframe\">\n",
       "  <thead>\n",
       "    <tr style=\"text-align: right;\">\n",
       "      <th></th>\n",
       "      <th>ajc_id_num</th>\n",
       "      <th>county_num</th>\n",
       "      <th>registration_num</th>\n",
       "      <th>election_date</th>\n",
       "      <th>election_type</th>\n",
       "      <th>party</th>\n",
       "      <th>absentee</th>\n",
       "      <th>provisional</th>\n",
       "      <th>supplemental</th>\n",
       "      <th>data_from_history_year_file</th>\n",
       "      <th>ajc_data_acquisition_year</th>\n",
       "      <th>ajc_data_loader_initials</th>\n",
       "    </tr>\n",
       "  </thead>\n",
       "  <tbody>\n",
       "    <tr>\n",
       "      <th>0</th>\n",
       "      <td>1</td>\n",
       "      <td>019</td>\n",
       "      <td>00591608</td>\n",
       "      <td>2020-11-03</td>\n",
       "      <td>003</td>\n",
       "      <td></td>\n",
       "      <td>Y</td>\n",
       "      <td>N</td>\n",
       "      <td>N</td>\n",
       "      <td>2020</td>\n",
       "      <td>2020</td>\n",
       "      <td>JLP</td>\n",
       "    </tr>\n",
       "    <tr>\n",
       "      <th>1</th>\n",
       "      <td>2</td>\n",
       "      <td>027</td>\n",
       "      <td>00430264</td>\n",
       "      <td>2020-11-03</td>\n",
       "      <td>003</td>\n",
       "      <td></td>\n",
       "      <td>Y</td>\n",
       "      <td>N</td>\n",
       "      <td>N</td>\n",
       "      <td>2020</td>\n",
       "      <td>2020</td>\n",
       "      <td>JLP</td>\n",
       "    </tr>\n",
       "    <tr>\n",
       "      <th>2</th>\n",
       "      <td>3</td>\n",
       "      <td>001</td>\n",
       "      <td>00652737</td>\n",
       "      <td>2020-11-03</td>\n",
       "      <td>003</td>\n",
       "      <td></td>\n",
       "      <td>Y</td>\n",
       "      <td>N</td>\n",
       "      <td>N</td>\n",
       "      <td>2020</td>\n",
       "      <td>2020</td>\n",
       "      <td>JLP</td>\n",
       "    </tr>\n",
       "    <tr>\n",
       "      <th>3</th>\n",
       "      <td>4</td>\n",
       "      <td>023</td>\n",
       "      <td>05511334</td>\n",
       "      <td>2020-11-03</td>\n",
       "      <td>003</td>\n",
       "      <td></td>\n",
       "      <td>Y</td>\n",
       "      <td>N</td>\n",
       "      <td>N</td>\n",
       "      <td>2020</td>\n",
       "      <td>2020</td>\n",
       "      <td>JLP</td>\n",
       "    </tr>\n",
       "    <tr>\n",
       "      <th>4</th>\n",
       "      <td>5</td>\n",
       "      <td>011</td>\n",
       "      <td>04059627</td>\n",
       "      <td>2020-11-03</td>\n",
       "      <td>003</td>\n",
       "      <td></td>\n",
       "      <td>Y</td>\n",
       "      <td>N</td>\n",
       "      <td>N</td>\n",
       "      <td>2020</td>\n",
       "      <td>2020</td>\n",
       "      <td>JLP</td>\n",
       "    </tr>\n",
       "    <tr>\n",
       "      <th>5</th>\n",
       "      <td>6</td>\n",
       "      <td>028</td>\n",
       "      <td>03157858</td>\n",
       "      <td>2020-11-03</td>\n",
       "      <td>003</td>\n",
       "      <td></td>\n",
       "      <td>Y</td>\n",
       "      <td>N</td>\n",
       "      <td>N</td>\n",
       "      <td>2020</td>\n",
       "      <td>2020</td>\n",
       "      <td>JLP</td>\n",
       "    </tr>\n",
       "    <tr>\n",
       "      <th>6</th>\n",
       "      <td>7</td>\n",
       "      <td>028</td>\n",
       "      <td>07321730</td>\n",
       "      <td>2020-11-03</td>\n",
       "      <td>003</td>\n",
       "      <td></td>\n",
       "      <td>Y</td>\n",
       "      <td>N</td>\n",
       "      <td>N</td>\n",
       "      <td>2020</td>\n",
       "      <td>2020</td>\n",
       "      <td>JLP</td>\n",
       "    </tr>\n",
       "    <tr>\n",
       "      <th>7</th>\n",
       "      <td>8</td>\n",
       "      <td>007</td>\n",
       "      <td>06991394</td>\n",
       "      <td>2020-11-03</td>\n",
       "      <td>003</td>\n",
       "      <td></td>\n",
       "      <td>Y</td>\n",
       "      <td>N</td>\n",
       "      <td>N</td>\n",
       "      <td>2020</td>\n",
       "      <td>2020</td>\n",
       "      <td>JLP</td>\n",
       "    </tr>\n",
       "    <tr>\n",
       "      <th>8</th>\n",
       "      <td>9</td>\n",
       "      <td>001</td>\n",
       "      <td>00653967</td>\n",
       "      <td>2020-11-03</td>\n",
       "      <td>003</td>\n",
       "      <td></td>\n",
       "      <td>Y</td>\n",
       "      <td>N</td>\n",
       "      <td>N</td>\n",
       "      <td>2020</td>\n",
       "      <td>2020</td>\n",
       "      <td>JLP</td>\n",
       "    </tr>\n",
       "    <tr>\n",
       "      <th>9</th>\n",
       "      <td>10</td>\n",
       "      <td>023</td>\n",
       "      <td>11326919</td>\n",
       "      <td>2020-11-03</td>\n",
       "      <td>003</td>\n",
       "      <td></td>\n",
       "      <td>Y</td>\n",
       "      <td>N</td>\n",
       "      <td>N</td>\n",
       "      <td>2020</td>\n",
       "      <td>2020</td>\n",
       "      <td>JLP</td>\n",
       "    </tr>\n",
       "    <tr>\n",
       "      <th>10</th>\n",
       "      <td>11</td>\n",
       "      <td>020</td>\n",
       "      <td>11766301</td>\n",
       "      <td>2020-11-03</td>\n",
       "      <td>003</td>\n",
       "      <td></td>\n",
       "      <td>Y</td>\n",
       "      <td>N</td>\n",
       "      <td>N</td>\n",
       "      <td>2020</td>\n",
       "      <td>2020</td>\n",
       "      <td>JLP</td>\n",
       "    </tr>\n",
       "    <tr>\n",
       "      <th>11</th>\n",
       "      <td>12</td>\n",
       "      <td>031</td>\n",
       "      <td>05258463</td>\n",
       "      <td>2020-11-03</td>\n",
       "      <td>003</td>\n",
       "      <td></td>\n",
       "      <td>Y</td>\n",
       "      <td>N</td>\n",
       "      <td>N</td>\n",
       "      <td>2020</td>\n",
       "      <td>2020</td>\n",
       "      <td>JLP</td>\n",
       "    </tr>\n",
       "    <tr>\n",
       "      <th>12</th>\n",
       "      <td>13</td>\n",
       "      <td>028</td>\n",
       "      <td>12641178</td>\n",
       "      <td>2020-11-03</td>\n",
       "      <td>003</td>\n",
       "      <td></td>\n",
       "      <td>Y</td>\n",
       "      <td>N</td>\n",
       "      <td>N</td>\n",
       "      <td>2020</td>\n",
       "      <td>2020</td>\n",
       "      <td>JLP</td>\n",
       "    </tr>\n",
       "    <tr>\n",
       "      <th>13</th>\n",
       "      <td>14</td>\n",
       "      <td>031</td>\n",
       "      <td>02433611</td>\n",
       "      <td>2020-11-03</td>\n",
       "      <td>003</td>\n",
       "      <td></td>\n",
       "      <td>Y</td>\n",
       "      <td>N</td>\n",
       "      <td>N</td>\n",
       "      <td>2020</td>\n",
       "      <td>2020</td>\n",
       "      <td>JLP</td>\n",
       "    </tr>\n",
       "    <tr>\n",
       "      <th>14</th>\n",
       "      <td>15</td>\n",
       "      <td>015</td>\n",
       "      <td>01553284</td>\n",
       "      <td>2020-11-03</td>\n",
       "      <td>003</td>\n",
       "      <td></td>\n",
       "      <td>Y</td>\n",
       "      <td>N</td>\n",
       "      <td>N</td>\n",
       "      <td>2020</td>\n",
       "      <td>2020</td>\n",
       "      <td>JLP</td>\n",
       "    </tr>\n",
       "    <tr>\n",
       "      <th>15</th>\n",
       "      <td>16</td>\n",
       "      <td>031</td>\n",
       "      <td>05560829</td>\n",
       "      <td>2020-11-03</td>\n",
       "      <td>003</td>\n",
       "      <td></td>\n",
       "      <td>Y</td>\n",
       "      <td>N</td>\n",
       "      <td>N</td>\n",
       "      <td>2020</td>\n",
       "      <td>2020</td>\n",
       "      <td>JLP</td>\n",
       "    </tr>\n",
       "    <tr>\n",
       "      <th>16</th>\n",
       "      <td>17</td>\n",
       "      <td>020</td>\n",
       "      <td>06633449</td>\n",
       "      <td>2020-11-03</td>\n",
       "      <td>003</td>\n",
       "      <td></td>\n",
       "      <td>Y</td>\n",
       "      <td>N</td>\n",
       "      <td>N</td>\n",
       "      <td>2020</td>\n",
       "      <td>2020</td>\n",
       "      <td>JLP</td>\n",
       "    </tr>\n",
       "    <tr>\n",
       "      <th>17</th>\n",
       "      <td>18</td>\n",
       "      <td>022</td>\n",
       "      <td>08233205</td>\n",
       "      <td>2020-11-03</td>\n",
       "      <td>003</td>\n",
       "      <td></td>\n",
       "      <td>Y</td>\n",
       "      <td>N</td>\n",
       "      <td>N</td>\n",
       "      <td>2020</td>\n",
       "      <td>2020</td>\n",
       "      <td>JLP</td>\n",
       "    </tr>\n",
       "    <tr>\n",
       "      <th>18</th>\n",
       "      <td>19</td>\n",
       "      <td>029</td>\n",
       "      <td>10977610</td>\n",
       "      <td>2020-11-03</td>\n",
       "      <td>003</td>\n",
       "      <td></td>\n",
       "      <td>Y</td>\n",
       "      <td>N</td>\n",
       "      <td>N</td>\n",
       "      <td>2020</td>\n",
       "      <td>2020</td>\n",
       "      <td>JLP</td>\n",
       "    </tr>\n",
       "    <tr>\n",
       "      <th>19</th>\n",
       "      <td>20</td>\n",
       "      <td>011</td>\n",
       "      <td>00159865</td>\n",
       "      <td>2020-11-03</td>\n",
       "      <td>003</td>\n",
       "      <td></td>\n",
       "      <td>Y</td>\n",
       "      <td>N</td>\n",
       "      <td>N</td>\n",
       "      <td>2020</td>\n",
       "      <td>2020</td>\n",
       "      <td>JLP</td>\n",
       "    </tr>\n",
       "  </tbody>\n",
       "</table>\n",
       "</div>"
      ],
      "text/plain": [
       "   ajc_id_num county_num registration_num election_date election_type party  \\\n",
       "0           1        019         00591608    2020-11-03           003         \n",
       "1           2        027         00430264    2020-11-03           003         \n",
       "2           3        001         00652737    2020-11-03           003         \n",
       "3           4        023         05511334    2020-11-03           003         \n",
       "4           5        011         04059627    2020-11-03           003         \n",
       "5           6        028         03157858    2020-11-03           003         \n",
       "6           7        028         07321730    2020-11-03           003         \n",
       "7           8        007         06991394    2020-11-03           003         \n",
       "8           9        001         00653967    2020-11-03           003         \n",
       "9          10        023         11326919    2020-11-03           003         \n",
       "10         11        020         11766301    2020-11-03           003         \n",
       "11         12        031         05258463    2020-11-03           003         \n",
       "12         13        028         12641178    2020-11-03           003         \n",
       "13         14        031         02433611    2020-11-03           003         \n",
       "14         15        015         01553284    2020-11-03           003         \n",
       "15         16        031         05560829    2020-11-03           003         \n",
       "16         17        020         06633449    2020-11-03           003         \n",
       "17         18        022         08233205    2020-11-03           003         \n",
       "18         19        029         10977610    2020-11-03           003         \n",
       "19         20        011         00159865    2020-11-03           003         \n",
       "\n",
       "   absentee provisional supplemental data_from_history_year_file  \\\n",
       "0         Y           N            N                        2020   \n",
       "1         Y           N            N                        2020   \n",
       "2         Y           N            N                        2020   \n",
       "3         Y           N            N                        2020   \n",
       "4         Y           N            N                        2020   \n",
       "5         Y           N            N                        2020   \n",
       "6         Y           N            N                        2020   \n",
       "7         Y           N            N                        2020   \n",
       "8         Y           N            N                        2020   \n",
       "9         Y           N            N                        2020   \n",
       "10        Y           N            N                        2020   \n",
       "11        Y           N            N                        2020   \n",
       "12        Y           N            N                        2020   \n",
       "13        Y           N            N                        2020   \n",
       "14        Y           N            N                        2020   \n",
       "15        Y           N            N                        2020   \n",
       "16        Y           N            N                        2020   \n",
       "17        Y           N            N                        2020   \n",
       "18        Y           N            N                        2020   \n",
       "19        Y           N            N                        2020   \n",
       "\n",
       "   ajc_data_acquisition_year ajc_data_loader_initials  \n",
       "0                       2020                      JLP  \n",
       "1                       2020                      JLP  \n",
       "2                       2020                      JLP  \n",
       "3                       2020                      JLP  \n",
       "4                       2020                      JLP  \n",
       "5                       2020                      JLP  \n",
       "6                       2020                      JLP  \n",
       "7                       2020                      JLP  \n",
       "8                       2020                      JLP  \n",
       "9                       2020                      JLP  \n",
       "10                      2020                      JLP  \n",
       "11                      2020                      JLP  \n",
       "12                      2020                      JLP  \n",
       "13                      2020                      JLP  \n",
       "14                      2020                      JLP  \n",
       "15                      2020                      JLP  \n",
       "16                      2020                      JLP  \n",
       "17                      2020                      JLP  \n",
       "18                      2020                      JLP  \n",
       "19                      2020                      JLP  "
      ]
     },
     "execution_count": 7,
     "metadata": {},
     "output_type": "execute_result"
    }
   ],
   "source": [
    "df.head(20)"
   ]
  },
  {
   "cell_type": "code",
   "execution_count": null,
   "metadata": {},
   "outputs": [
    {
     "name": "stderr",
     "output_type": "stream",
     "text": [
      "/var/folders/2d/dn3_f8x10wzf75hxkv2506g00000gp/T/ipykernel_73239/470233134.py:2: UserWarning: pandas only supports SQLAlchemy connectable (engine/connection) or database string URI or sqlite3 DBAPI2 connection. Other DBAPI2 objects are not tested. Please consider using SQLAlchemy.\n",
      "  county_code_df = pd.read_sql(\"SELECT * FROM `ga_sos_voters`.`lu_countycode`\", conn, dtype='str')\n"
     ]
    }
   ],
   "source": [
    "# pull county code list and make dictionary\n",
    "county_code_df = pd.read_sql(\"SELECT * FROM `ga_sos_voters`.`lu_countycode`\", conn, dtype='str')"
   ]
  },
  {
   "cell_type": "code",
   "execution_count": null,
   "metadata": {},
   "outputs": [],
   "source": [
    "county_code_dict = dict(zip(county_code_df.COUNTY_CODE, county_code_df.COUNTY))"
   ]
  },
  {
   "cell_type": "code",
   "execution_count": null,
   "metadata": {},
   "outputs": [],
   "source": [
    "# make function to use dictionaries to fill in DataFrame columns with expanded information\n",
    "def dict_lookup_list(column, dictionary):\n",
    "    county_list = []\n",
    "    for entry in column:\n",
    "        if len(entry) == 3:\n",
    "            county_name = dictionary.get(f'{entry}')\n",
    "            county_list.append(county_name)\n",
    "        else:\n",
    "            county_list.append(entry)\n",
    "    return county_list"
   ]
  },
  {
   "cell_type": "code",
   "execution_count": null,
   "metadata": {},
   "outputs": [],
   "source": [
    "# use dict_lookup_list() to fill in 'county_name' and get rid of 'county_num'\n",
    "if 'county_num' in df.columns:\n",
    "    df.insert(0, 'county_name', dict_lookup_list(df.county_num, county_code_dict))"
   ]
  },
  {
   "cell_type": "code",
   "execution_count": null,
   "metadata": {},
   "outputs": [
    {
     "data": {
      "text/plain": [
       "0          019\n",
       "1          027\n",
       "2          001\n",
       "3          023\n",
       "4          011\n",
       "          ... \n",
       "5001379    149\n",
       "5001380    154\n",
       "5001381    156\n",
       "5001382    155\n",
       "5001383    149\n",
       "Name: county_num, Length: 5001384, dtype: object"
      ]
     },
     "execution_count": 12,
     "metadata": {},
     "output_type": "execute_result"
    }
   ],
   "source": [
    "df.pop('county_num')"
   ]
  },
  {
   "cell_type": "code",
   "execution_count": null,
   "metadata": {},
   "outputs": [],
   "source": [
    "# rename voter_registration_number column to fit other data warehouse tables\n",
    "df = df.rename(columns={'registration_num': 'voter_registration_number'})"
   ]
  },
  {
   "cell_type": "code",
   "execution_count": null,
   "metadata": {},
   "outputs": [],
   "source": [
    "# function to add index to new DataFrame\n",
    "def add_row_names(column):\n",
    "    counter = 0\n",
    "    row_name_list = []\n",
    "    for row in column:\n",
    "        counter += 1\n",
    "        row_name_list.append(counter)\n",
    "    return row_name_list"
   ]
  },
  {
   "cell_type": "code",
   "execution_count": null,
   "metadata": {},
   "outputs": [],
   "source": [
    "if 'row_names' not in df.columns:\n",
    "    df.insert(0, 'row_names', add_row_names(df['county_name']))"
   ]
  },
  {
   "cell_type": "code",
   "execution_count": null,
   "metadata": {},
   "outputs": [
    {
     "name": "stderr",
     "output_type": "stream",
     "text": [
      "/var/folders/2d/dn3_f8x10wzf75hxkv2506g00000gp/T/ipykernel_73239/2221766173.py:2: UserWarning: pandas only supports SQLAlchemy connectable (engine/connection) or database string URI or sqlite3 DBAPI2 connection. Other DBAPI2 objects are not tested. Please consider using SQLAlchemy.\n",
      "  election_type_df = pd.read_sql(\"SELECT * FROM `ga_sos_voters`.`lu_election_type`\", conn)\n"
     ]
    }
   ],
   "source": [
    "# make dictionary of election types\n",
    "election_type_df = pd.read_sql(\"SELECT * FROM `ga_sos_voters`.`lu_election_type`\", conn)"
   ]
  },
  {
   "cell_type": "code",
   "execution_count": null,
   "metadata": {},
   "outputs": [],
   "source": [
    "election_type_dict = dict(zip(election_type_df.type_of_election, election_type_df.description))"
   ]
  },
  {
   "cell_type": "code",
   "execution_count": null,
   "metadata": {},
   "outputs": [],
   "source": [
    "# Make election types all caps to match other tables\n",
    "df['election_type'] = dict_lookup_list(df['election_type'], election_type_dict)"
   ]
  },
  {
   "cell_type": "code",
   "execution_count": null,
   "metadata": {},
   "outputs": [],
   "source": [
    "df['election_type'] = df['election_type'].str.upper()"
   ]
  },
  {
   "cell_type": "code",
   "execution_count": null,
   "metadata": {},
   "outputs": [],
   "source": [
    "# get rid of \"None\" values to match other tables in data warehouse\n",
    "\n",
    "def remove_nones(column):\n",
    "    entry_list = []\n",
    "    for entry in column:\n",
    "        if entry == \"None\":\n",
    "            entry_list.append(\"\")\n",
    "        else:\n",
    "            entry_list.append(entry)\n",
    "    return entry_list"
   ]
  },
  {
   "cell_type": "code",
   "execution_count": null,
   "metadata": {},
   "outputs": [],
   "source": [
    "df['county_name'] = remove_nones(df['county_name'])"
   ]
  },
  {
   "cell_type": "code",
   "execution_count": null,
   "metadata": {},
   "outputs": [],
   "source": [
    "df['voter_registration_number'] = remove_nones(df['voter_registration_number'])"
   ]
  },
  {
   "cell_type": "code",
   "execution_count": null,
   "metadata": {},
   "outputs": [],
   "source": [
    "df['election_date'] = remove_nones(df['election_date'])"
   ]
  },
  {
   "cell_type": "code",
   "execution_count": null,
   "metadata": {},
   "outputs": [],
   "source": [
    "df['election_type'] = remove_nones(df['election_type'])"
   ]
  },
  {
   "cell_type": "code",
   "execution_count": null,
   "metadata": {},
   "outputs": [],
   "source": [
    "df['party'] = remove_nones(df['party'])"
   ]
  },
  {
   "cell_type": "code",
   "execution_count": null,
   "metadata": {},
   "outputs": [],
   "source": [
    "df['absentee'] = remove_nones(df['absentee'])"
   ]
  },
  {
   "cell_type": "code",
   "execution_count": null,
   "metadata": {},
   "outputs": [],
   "source": [
    "df['provisional'] = remove_nones(df['provisional'])"
   ]
  },
  {
   "cell_type": "code",
   "execution_count": null,
   "metadata": {},
   "outputs": [],
   "source": [
    "df['supplemental'] = remove_nones(df['supplemental'])"
   ]
  },
  {
   "cell_type": "code",
   "execution_count": null,
   "metadata": {},
   "outputs": [],
   "source": [
    "# add or delete columns not used in other tables\n",
    "if 'ballot_style' not in df.columns:\n",
    "    df.insert(6, 'ballot_style', '')"
   ]
  },
  {
   "cell_type": "code",
   "execution_count": null,
   "metadata": {},
   "outputs": [],
   "source": [
    "if 'data_from_history_year_file' in df.columns:\n",
    "    df.pop('data_from_history_year_file')"
   ]
  },
  {
   "cell_type": "code",
   "execution_count": null,
   "metadata": {},
   "outputs": [],
   "source": [
    "if 'ajc_data_acquisition_year' in df.columns:\n",
    "    df.pop('ajc_data_acquisition_year')"
   ]
  },
  {
   "cell_type": "code",
   "execution_count": null,
   "metadata": {},
   "outputs": [],
   "source": [
    "if 'ajc_data_loader_initials' in df.columns:\n",
    "    df.pop('ajc_data_loader_initials')"
   ]
  },
  {
   "cell_type": "code",
   "execution_count": null,
   "metadata": {},
   "outputs": [
    {
     "data": {
      "text/plain": [
       "election_type\n",
       "GENERAL ELECTION    5001384\n",
       "Name: count, dtype: int64"
      ]
     },
     "execution_count": 33,
     "metadata": {},
     "output_type": "execute_result"
    }
   ],
   "source": [
    "# there are both \"GENERAL ELECTION\" values and \"GENERAL/SPECIAL ELECTION\" values, and the vast majority are not duplicates\n",
    "# I will use both values to filter and dedupe so that I am not missing 1/3 of the voters\n",
    "# it would be a good idea to run this same notebook on more recent tables to check how this process compares to what the state does to get their values filtered\n",
    "df.election_type.value_counts()"
   ]
  },
  {
   "cell_type": "code",
   "execution_count": null,
   "metadata": {},
   "outputs": [
    {
     "data": {
      "text/plain": [
       "party\n",
       "    5001384\n",
       "Name: count, dtype: int64"
      ]
     },
     "execution_count": 34,
     "metadata": {},
     "output_type": "execute_result"
    }
   ],
   "source": [
    "df[df['election_type'] == 'GENERAL ELECTION'].party.value_counts()"
   ]
  },
  {
   "cell_type": "code",
   "execution_count": null,
   "metadata": {},
   "outputs": [],
   "source": [
    "filtered_date_df = df[df['election_date'] == election_date]"
   ]
  },
  {
   "cell_type": "code",
   "execution_count": null,
   "metadata": {},
   "outputs": [],
   "source": [
    "filtered_election_df = df[(df['election_type'] == election_type1) | (df['election_type'] == election_type2) | (df['election_type'] == election_type3)]"
   ]
  },
  {
   "cell_type": "code",
   "execution_count": null,
   "metadata": {},
   "outputs": [],
   "source": [
    "filtered_date_election_df = filtered_election_df[filtered_election_df['election_date'] == election_date]"
   ]
  },
  {
   "cell_type": "code",
   "execution_count": null,
   "metadata": {},
   "outputs": [],
   "source": [
    "filtered_date_election_df.row_names = add_row_names(filtered_date_election_df['county_name'])"
   ]
  },
  {
   "cell_type": "code",
   "execution_count": null,
   "metadata": {},
   "outputs": [
    {
     "data": {
      "text/html": [
       "<div>\n",
       "<style scoped>\n",
       "    .dataframe tbody tr th:only-of-type {\n",
       "        vertical-align: middle;\n",
       "    }\n",
       "\n",
       "    .dataframe tbody tr th {\n",
       "        vertical-align: top;\n",
       "    }\n",
       "\n",
       "    .dataframe thead th {\n",
       "        text-align: right;\n",
       "    }\n",
       "</style>\n",
       "<table border=\"1\" class=\"dataframe\">\n",
       "  <thead>\n",
       "    <tr style=\"text-align: right;\">\n",
       "      <th></th>\n",
       "      <th>row_names</th>\n",
       "      <th>county_name</th>\n",
       "      <th>ajc_id_num</th>\n",
       "      <th>voter_registration_number</th>\n",
       "      <th>election_date</th>\n",
       "      <th>election_type</th>\n",
       "      <th>ballot_style</th>\n",
       "      <th>party</th>\n",
       "      <th>absentee</th>\n",
       "      <th>provisional</th>\n",
       "      <th>supplemental</th>\n",
       "    </tr>\n",
       "  </thead>\n",
       "  <tbody>\n",
       "  </tbody>\n",
       "</table>\n",
       "</div>"
      ],
      "text/plain": [
       "Empty DataFrame\n",
       "Columns: [row_names, county_name, ajc_id_num, voter_registration_number, election_date, election_type, ballot_style, party, absentee, provisional, supplemental]\n",
       "Index: []"
      ]
     },
     "execution_count": 39,
     "metadata": {},
     "output_type": "execute_result"
    }
   ],
   "source": [
    "# it is hard to tell why there are duplicates with the general and general/special election types\n",
    "filtered_date_election_df[filtered_date_election_df['voter_registration_number'].duplicated(keep=False)].sort_values('voter_registration_number')"
   ]
  },
  {
   "cell_type": "code",
   "execution_count": null,
   "metadata": {},
   "outputs": [],
   "source": [
    "deduped_df = filtered_date_election_df.drop_duplicates('voter_registration_number')"
   ]
  },
  {
   "cell_type": "code",
   "execution_count": null,
   "metadata": {},
   "outputs": [
    {
     "data": {
      "text/plain": [
       "0"
      ]
     },
     "execution_count": 41,
     "metadata": {},
     "output_type": "execute_result"
    }
   ],
   "source": [
    "# there are 114 duplicated entries, and after deduping the DataFrame I have 114 fewer entries\n",
    "len(filtered_date_election_df) - len(deduped_df)"
   ]
  },
  {
   "cell_type": "code",
   "execution_count": null,
   "metadata": {},
   "outputs": [
    {
     "data": {
      "text/plain": [
       "0"
      ]
     },
     "execution_count": 42,
     "metadata": {},
     "output_type": "execute_result"
    }
   ],
   "source": [
    "len(filtered_date_election_df[filtered_date_election_df['voter_registration_number'].duplicated()])"
   ]
  },
  {
   "cell_type": "code",
   "execution_count": null,
   "metadata": {},
   "outputs": [
    {
     "data": {
      "text/plain": [
       "5001384"
      ]
     },
     "execution_count": 43,
     "metadata": {},
     "output_type": "execute_result"
    }
   ],
   "source": [
    "len(filtered_date_election_df.drop_duplicates('voter_registration_number'))"
   ]
  },
  {
   "cell_type": "code",
   "execution_count": null,
   "metadata": {},
   "outputs": [
    {
     "data": {
      "text/plain": [
       "party\n",
       "    5001384\n",
       "Name: count, dtype: int64"
      ]
     },
     "execution_count": 44,
     "metadata": {},
     "output_type": "execute_result"
    }
   ],
   "source": [
    "filtered_date_election_df.party.value_counts()"
   ]
  },
  {
   "cell_type": "code",
   "execution_count": null,
   "metadata": {},
   "outputs": [
    {
     "data": {
      "text/plain": [
       "election_type   \n",
       "GENERAL ELECTION    5001384\n",
       "Name: count, dtype: int64"
      ]
     },
     "execution_count": 45,
     "metadata": {},
     "output_type": "execute_result"
    }
   ],
   "source": [
    "filtered_date_election_df.value_counts(['election_type'])"
   ]
  },
  {
   "cell_type": "code",
   "execution_count": null,
   "metadata": {},
   "outputs": [],
   "source": [
    "output_path = Path().cwd().parent.joinpath(f'output_csv/{output_name}')\n",
    "filtered_date_election_df.to_csv(output_path)"
   ]
  }
 ],
 "metadata": {
  "kernelspec": {
   "display_name": "Python 3",
   "language": "python",
   "name": "python3"
  },
  "language_info": {
   "codemirror_mode": {
    "name": "ipython",
    "version": 3
   },
   "file_extension": ".py",
   "mimetype": "text/x-python",
   "name": "python",
   "nbconvert_exporter": "python",
   "pygments_lexer": "ipython3",
   "version": "3.11.9"
  }
 },
 "nbformat": 4,
 "nbformat_minor": 2
}
