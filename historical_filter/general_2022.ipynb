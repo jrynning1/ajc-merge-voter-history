{
 "cells": [
  {
   "cell_type": "code",
   "execution_count": null,
   "metadata": {},
   "outputs": [],
   "source": [
    "# DO NOT USE SOS 2022 VOTER HISTORY FILE FROM WEBSITE. IT IS MISSING VOTERS.\n",
    "# USE \"voter_history_20221108\" from data warehouse"
   ]
  },
  {
   "cell_type": "code",
   "execution_count": 1,
   "metadata": {},
   "outputs": [],
   "source": [
    "import pandas as pd\n",
    "import datetime\n",
    "import mariadb\n",
    "import numpy as np\n",
    "import os\n",
    "from pathlib import Path"
   ]
  },
  {
   "cell_type": "code",
   "execution_count": 2,
   "metadata": {},
   "outputs": [],
   "source": [
    "# make sure these values are correct for each iteration of this notebook\n",
    "# all other fields should run without changes\n",
    "election_date = '2022-11-08'\n",
    "election_type1 = 'GENERAL ELECTION'\n",
    "election_type2 = 'None'\n",
    "election_type3 = 'None'\n",
    "sql_query = \"SELECT * FROM `ga_sos_voters`.`voter_history_20221108`\"\n",
    "output_name = \"general_2022.csv\"\n"
   ]
  },
  {
   "cell_type": "code",
   "execution_count": 3,
   "metadata": {},
   "outputs": [],
   "source": [
    "# Connect to data warehouse with MariaDB\n",
    "try:\n",
    "    conn = mariadb.connect(\n",
    "        user=os.getenv(\"MARIADB_USER\"),\n",
    "        password=os.getenv(\"MARIADB_PASSWORD\"),\n",
    "        host=os.getenv(\"MARIADB_HOST\"),\n",
    "        port=int(os.getenv(\"MARIADB_PORT\"))\n",
    "    )\n",
    "except mariadb.Error as e:\n",
    "    print(f\"Error connecting to MariaDB Platform: {e}\")\n",
    "    sys.exit(1)\n",
    "\n",
    "# Get Cursor\n",
    "cur = conn.cursor()"
   ]
  },
  {
   "cell_type": "code",
   "execution_count": 4,
   "metadata": {},
   "outputs": [
    {
     "name": "stderr",
     "output_type": "stream",
     "text": [
      "/var/folders/2d/dn3_f8x10wzf75hxkv2506g00000gp/T/ipykernel_58189/2992080012.py:2: UserWarning: pandas only supports SQLAlchemy connectable (engine/connection) or database string URI or sqlite3 DBAPI2 connection. Other DBAPI2 objects are not tested. Please consider using SQLAlchemy.\n",
      "  original_table = pd.read_sql(sql_query, conn, dtype='str')\n"
     ]
    }
   ],
   "source": [
    "# pull contents of SQL table into Pandas DataFrame\n",
    "original_table = pd.read_sql(sql_query, conn, dtype='str')"
   ]
  },
  {
   "cell_type": "code",
   "execution_count": 5,
   "metadata": {},
   "outputs": [],
   "source": [
    "# make copy to avoid having to redownload as often\n",
    "df = original_table.copy()"
   ]
  },
  {
   "cell_type": "code",
   "execution_count": 6,
   "metadata": {},
   "outputs": [
    {
     "data": {
      "text/html": [
       "<div>\n",
       "<style scoped>\n",
       "    .dataframe tbody tr th:only-of-type {\n",
       "        vertical-align: middle;\n",
       "    }\n",
       "\n",
       "    .dataframe tbody tr th {\n",
       "        vertical-align: top;\n",
       "    }\n",
       "\n",
       "    .dataframe thead th {\n",
       "        text-align: right;\n",
       "    }\n",
       "</style>\n",
       "<table border=\"1\" class=\"dataframe\">\n",
       "  <thead>\n",
       "    <tr style=\"text-align: right;\">\n",
       "      <th></th>\n",
       "      <th>ajc_id_num</th>\n",
       "      <th>county_num</th>\n",
       "      <th>registration_num</th>\n",
       "      <th>election_date</th>\n",
       "      <th>election_type</th>\n",
       "      <th>party</th>\n",
       "      <th>absentee</th>\n",
       "      <th>provisional</th>\n",
       "      <th>supplemental</th>\n",
       "      <th>data_from_history_year_file</th>\n",
       "      <th>ajc_data_acquisition_year</th>\n",
       "      <th>ajc_data_loader_initials</th>\n",
       "    </tr>\n",
       "  </thead>\n",
       "  <tbody>\n",
       "    <tr>\n",
       "      <th>0</th>\n",
       "      <td>1</td>\n",
       "      <td>007</td>\n",
       "      <td>06080262</td>\n",
       "      <td>2022-11-08</td>\n",
       "      <td>003</td>\n",
       "      <td></td>\n",
       "      <td>Y</td>\n",
       "      <td>N</td>\n",
       "      <td>N</td>\n",
       "      <td>2022</td>\n",
       "      <td>2022</td>\n",
       "      <td>CM</td>\n",
       "    </tr>\n",
       "    <tr>\n",
       "      <th>1</th>\n",
       "      <td>2</td>\n",
       "      <td>015</td>\n",
       "      <td>12513112</td>\n",
       "      <td>2022-11-08</td>\n",
       "      <td>003</td>\n",
       "      <td></td>\n",
       "      <td>Y</td>\n",
       "      <td>N</td>\n",
       "      <td>N</td>\n",
       "      <td>2022</td>\n",
       "      <td>2022</td>\n",
       "      <td>CM</td>\n",
       "    </tr>\n",
       "    <tr>\n",
       "      <th>2</th>\n",
       "      <td>3</td>\n",
       "      <td>009</td>\n",
       "      <td>12074755</td>\n",
       "      <td>2022-11-08</td>\n",
       "      <td>003</td>\n",
       "      <td></td>\n",
       "      <td>Y</td>\n",
       "      <td>N</td>\n",
       "      <td>N</td>\n",
       "      <td>2022</td>\n",
       "      <td>2022</td>\n",
       "      <td>CM</td>\n",
       "    </tr>\n",
       "    <tr>\n",
       "      <th>3</th>\n",
       "      <td>4</td>\n",
       "      <td>031</td>\n",
       "      <td>05975408</td>\n",
       "      <td>2022-11-08</td>\n",
       "      <td>003</td>\n",
       "      <td></td>\n",
       "      <td>Y</td>\n",
       "      <td>N</td>\n",
       "      <td>N</td>\n",
       "      <td>2022</td>\n",
       "      <td>2022</td>\n",
       "      <td>CM</td>\n",
       "    </tr>\n",
       "    <tr>\n",
       "      <th>4</th>\n",
       "      <td>5</td>\n",
       "      <td>031</td>\n",
       "      <td>13011792</td>\n",
       "      <td>2022-11-08</td>\n",
       "      <td>003</td>\n",
       "      <td></td>\n",
       "      <td>Y</td>\n",
       "      <td>N</td>\n",
       "      <td>N</td>\n",
       "      <td>2022</td>\n",
       "      <td>2022</td>\n",
       "      <td>CM</td>\n",
       "    </tr>\n",
       "    <tr>\n",
       "      <th>5</th>\n",
       "      <td>6</td>\n",
       "      <td>025</td>\n",
       "      <td>01573729</td>\n",
       "      <td>2022-11-08</td>\n",
       "      <td>003</td>\n",
       "      <td></td>\n",
       "      <td>Y</td>\n",
       "      <td>N</td>\n",
       "      <td>N</td>\n",
       "      <td>2022</td>\n",
       "      <td>2022</td>\n",
       "      <td>CM</td>\n",
       "    </tr>\n",
       "    <tr>\n",
       "      <th>6</th>\n",
       "      <td>7</td>\n",
       "      <td>025</td>\n",
       "      <td>08071609</td>\n",
       "      <td>2022-11-08</td>\n",
       "      <td>003</td>\n",
       "      <td></td>\n",
       "      <td>Y</td>\n",
       "      <td>N</td>\n",
       "      <td>N</td>\n",
       "      <td>2022</td>\n",
       "      <td>2022</td>\n",
       "      <td>CM</td>\n",
       "    </tr>\n",
       "    <tr>\n",
       "      <th>7</th>\n",
       "      <td>8</td>\n",
       "      <td>029</td>\n",
       "      <td>05112485</td>\n",
       "      <td>2022-11-08</td>\n",
       "      <td>003</td>\n",
       "      <td></td>\n",
       "      <td>Y</td>\n",
       "      <td>N</td>\n",
       "      <td>N</td>\n",
       "      <td>2022</td>\n",
       "      <td>2022</td>\n",
       "      <td>CM</td>\n",
       "    </tr>\n",
       "    <tr>\n",
       "      <th>8</th>\n",
       "      <td>9</td>\n",
       "      <td>011</td>\n",
       "      <td>04139663</td>\n",
       "      <td>2022-11-08</td>\n",
       "      <td>003</td>\n",
       "      <td></td>\n",
       "      <td>Y</td>\n",
       "      <td>N</td>\n",
       "      <td>N</td>\n",
       "      <td>2022</td>\n",
       "      <td>2022</td>\n",
       "      <td>CM</td>\n",
       "    </tr>\n",
       "    <tr>\n",
       "      <th>9</th>\n",
       "      <td>10</td>\n",
       "      <td>025</td>\n",
       "      <td>12584623</td>\n",
       "      <td>2022-11-08</td>\n",
       "      <td>003</td>\n",
       "      <td></td>\n",
       "      <td>Y</td>\n",
       "      <td>N</td>\n",
       "      <td>N</td>\n",
       "      <td>2022</td>\n",
       "      <td>2022</td>\n",
       "      <td>CM</td>\n",
       "    </tr>\n",
       "    <tr>\n",
       "      <th>10</th>\n",
       "      <td>11</td>\n",
       "      <td>025</td>\n",
       "      <td>12574197</td>\n",
       "      <td>2022-11-08</td>\n",
       "      <td>003</td>\n",
       "      <td></td>\n",
       "      <td>Y</td>\n",
       "      <td>N</td>\n",
       "      <td>N</td>\n",
       "      <td>2022</td>\n",
       "      <td>2022</td>\n",
       "      <td>CM</td>\n",
       "    </tr>\n",
       "    <tr>\n",
       "      <th>11</th>\n",
       "      <td>12</td>\n",
       "      <td>025</td>\n",
       "      <td>08617206</td>\n",
       "      <td>2022-11-08</td>\n",
       "      <td>003</td>\n",
       "      <td></td>\n",
       "      <td>Y</td>\n",
       "      <td>N</td>\n",
       "      <td>N</td>\n",
       "      <td>2022</td>\n",
       "      <td>2022</td>\n",
       "      <td>CM</td>\n",
       "    </tr>\n",
       "    <tr>\n",
       "      <th>12</th>\n",
       "      <td>13</td>\n",
       "      <td>031</td>\n",
       "      <td>01917062</td>\n",
       "      <td>2022-11-08</td>\n",
       "      <td>003</td>\n",
       "      <td></td>\n",
       "      <td>Y</td>\n",
       "      <td>N</td>\n",
       "      <td>N</td>\n",
       "      <td>2022</td>\n",
       "      <td>2022</td>\n",
       "      <td>CM</td>\n",
       "    </tr>\n",
       "    <tr>\n",
       "      <th>13</th>\n",
       "      <td>14</td>\n",
       "      <td>011</td>\n",
       "      <td>00155569</td>\n",
       "      <td>2022-11-08</td>\n",
       "      <td>003</td>\n",
       "      <td></td>\n",
       "      <td>Y</td>\n",
       "      <td>N</td>\n",
       "      <td>N</td>\n",
       "      <td>2022</td>\n",
       "      <td>2022</td>\n",
       "      <td>CM</td>\n",
       "    </tr>\n",
       "    <tr>\n",
       "      <th>14</th>\n",
       "      <td>15</td>\n",
       "      <td>031</td>\n",
       "      <td>13109134</td>\n",
       "      <td>2022-11-08</td>\n",
       "      <td>003</td>\n",
       "      <td></td>\n",
       "      <td>Y</td>\n",
       "      <td>N</td>\n",
       "      <td>N</td>\n",
       "      <td>2022</td>\n",
       "      <td>2022</td>\n",
       "      <td>CM</td>\n",
       "    </tr>\n",
       "    <tr>\n",
       "      <th>15</th>\n",
       "      <td>16</td>\n",
       "      <td>025</td>\n",
       "      <td>01562712</td>\n",
       "      <td>2022-11-08</td>\n",
       "      <td>003</td>\n",
       "      <td></td>\n",
       "      <td>Y</td>\n",
       "      <td>N</td>\n",
       "      <td>N</td>\n",
       "      <td>2022</td>\n",
       "      <td>2022</td>\n",
       "      <td>CM</td>\n",
       "    </tr>\n",
       "    <tr>\n",
       "      <th>16</th>\n",
       "      <td>17</td>\n",
       "      <td>011</td>\n",
       "      <td>12729914</td>\n",
       "      <td>2022-11-08</td>\n",
       "      <td>003</td>\n",
       "      <td></td>\n",
       "      <td>Y</td>\n",
       "      <td>N</td>\n",
       "      <td>N</td>\n",
       "      <td>2022</td>\n",
       "      <td>2022</td>\n",
       "      <td>CM</td>\n",
       "    </tr>\n",
       "    <tr>\n",
       "      <th>17</th>\n",
       "      <td>18</td>\n",
       "      <td>011</td>\n",
       "      <td>11956099</td>\n",
       "      <td>2022-11-08</td>\n",
       "      <td>003</td>\n",
       "      <td></td>\n",
       "      <td>Y</td>\n",
       "      <td>N</td>\n",
       "      <td>N</td>\n",
       "      <td>2022</td>\n",
       "      <td>2022</td>\n",
       "      <td>CM</td>\n",
       "    </tr>\n",
       "    <tr>\n",
       "      <th>18</th>\n",
       "      <td>19</td>\n",
       "      <td>025</td>\n",
       "      <td>11762800</td>\n",
       "      <td>2022-11-08</td>\n",
       "      <td>003</td>\n",
       "      <td></td>\n",
       "      <td>Y</td>\n",
       "      <td>N</td>\n",
       "      <td>N</td>\n",
       "      <td>2022</td>\n",
       "      <td>2022</td>\n",
       "      <td>CM</td>\n",
       "    </tr>\n",
       "    <tr>\n",
       "      <th>19</th>\n",
       "      <td>20</td>\n",
       "      <td>031</td>\n",
       "      <td>05909358</td>\n",
       "      <td>2022-11-08</td>\n",
       "      <td>003</td>\n",
       "      <td></td>\n",
       "      <td>Y</td>\n",
       "      <td>N</td>\n",
       "      <td>N</td>\n",
       "      <td>2022</td>\n",
       "      <td>2022</td>\n",
       "      <td>CM</td>\n",
       "    </tr>\n",
       "  </tbody>\n",
       "</table>\n",
       "</div>"
      ],
      "text/plain": [
       "   ajc_id_num county_num registration_num election_date election_type party  \\\n",
       "0           1        007         06080262    2022-11-08           003         \n",
       "1           2        015         12513112    2022-11-08           003         \n",
       "2           3        009         12074755    2022-11-08           003         \n",
       "3           4        031         05975408    2022-11-08           003         \n",
       "4           5        031         13011792    2022-11-08           003         \n",
       "5           6        025         01573729    2022-11-08           003         \n",
       "6           7        025         08071609    2022-11-08           003         \n",
       "7           8        029         05112485    2022-11-08           003         \n",
       "8           9        011         04139663    2022-11-08           003         \n",
       "9          10        025         12584623    2022-11-08           003         \n",
       "10         11        025         12574197    2022-11-08           003         \n",
       "11         12        025         08617206    2022-11-08           003         \n",
       "12         13        031         01917062    2022-11-08           003         \n",
       "13         14        011         00155569    2022-11-08           003         \n",
       "14         15        031         13109134    2022-11-08           003         \n",
       "15         16        025         01562712    2022-11-08           003         \n",
       "16         17        011         12729914    2022-11-08           003         \n",
       "17         18        011         11956099    2022-11-08           003         \n",
       "18         19        025         11762800    2022-11-08           003         \n",
       "19         20        031         05909358    2022-11-08           003         \n",
       "\n",
       "   absentee provisional supplemental data_from_history_year_file  \\\n",
       "0         Y           N            N                        2022   \n",
       "1         Y           N            N                        2022   \n",
       "2         Y           N            N                        2022   \n",
       "3         Y           N            N                        2022   \n",
       "4         Y           N            N                        2022   \n",
       "5         Y           N            N                        2022   \n",
       "6         Y           N            N                        2022   \n",
       "7         Y           N            N                        2022   \n",
       "8         Y           N            N                        2022   \n",
       "9         Y           N            N                        2022   \n",
       "10        Y           N            N                        2022   \n",
       "11        Y           N            N                        2022   \n",
       "12        Y           N            N                        2022   \n",
       "13        Y           N            N                        2022   \n",
       "14        Y           N            N                        2022   \n",
       "15        Y           N            N                        2022   \n",
       "16        Y           N            N                        2022   \n",
       "17        Y           N            N                        2022   \n",
       "18        Y           N            N                        2022   \n",
       "19        Y           N            N                        2022   \n",
       "\n",
       "   ajc_data_acquisition_year ajc_data_loader_initials  \n",
       "0                       2022                       CM  \n",
       "1                       2022                       CM  \n",
       "2                       2022                       CM  \n",
       "3                       2022                       CM  \n",
       "4                       2022                       CM  \n",
       "5                       2022                       CM  \n",
       "6                       2022                       CM  \n",
       "7                       2022                       CM  \n",
       "8                       2022                       CM  \n",
       "9                       2022                       CM  \n",
       "10                      2022                       CM  \n",
       "11                      2022                       CM  \n",
       "12                      2022                       CM  \n",
       "13                      2022                       CM  \n",
       "14                      2022                       CM  \n",
       "15                      2022                       CM  \n",
       "16                      2022                       CM  \n",
       "17                      2022                       CM  \n",
       "18                      2022                       CM  \n",
       "19                      2022                       CM  "
      ]
     },
     "execution_count": 6,
     "metadata": {},
     "output_type": "execute_result"
    }
   ],
   "source": [
    "df.head(20)"
   ]
  },
  {
   "cell_type": "code",
   "execution_count": 7,
   "metadata": {},
   "outputs": [
    {
     "name": "stderr",
     "output_type": "stream",
     "text": [
      "/var/folders/2d/dn3_f8x10wzf75hxkv2506g00000gp/T/ipykernel_58189/470233134.py:2: UserWarning: pandas only supports SQLAlchemy connectable (engine/connection) or database string URI or sqlite3 DBAPI2 connection. Other DBAPI2 objects are not tested. Please consider using SQLAlchemy.\n",
      "  county_code_df = pd.read_sql(\"SELECT * FROM `ga_sos_voters`.`lu_countycode`\", conn, dtype='str')\n"
     ]
    }
   ],
   "source": [
    "# pull county code list and make dictionary\n",
    "county_code_df = pd.read_sql(\"SELECT * FROM `ga_sos_voters`.`lu_countycode`\", conn, dtype='str')"
   ]
  },
  {
   "cell_type": "code",
   "execution_count": 8,
   "metadata": {},
   "outputs": [],
   "source": [
    "county_code_dict = dict(zip(county_code_df.COUNTY_CODE, county_code_df.COUNTY))"
   ]
  },
  {
   "cell_type": "code",
   "execution_count": 9,
   "metadata": {},
   "outputs": [],
   "source": [
    "# make function to use dictionaries to fill in DataFrame columns with expanded information\n",
    "def dict_lookup_list(column, dictionary):\n",
    "    county_list = []\n",
    "    for entry in column:\n",
    "        if len(entry) == 3:\n",
    "            county_name = dictionary.get(f'{entry}')\n",
    "            county_list.append(county_name)\n",
    "        else:\n",
    "            county_list.append(entry)\n",
    "    return county_list"
   ]
  },
  {
   "cell_type": "code",
   "execution_count": 10,
   "metadata": {},
   "outputs": [],
   "source": [
    "# use dict_lookup_list() to fill in 'county_name' and get rid of 'county_num'\n",
    "if 'county_num' in df.columns:\n",
    "    df.insert(0, 'county_name', dict_lookup_list(df.county_num, county_code_dict))"
   ]
  },
  {
   "cell_type": "code",
   "execution_count": 11,
   "metadata": {},
   "outputs": [
    {
     "data": {
      "text/plain": [
       "0          007\n",
       "1          015\n",
       "2          009\n",
       "3          031\n",
       "4          031\n",
       "          ... \n",
       "3961701    153\n",
       "3961702    155\n",
       "3961703    154\n",
       "3961704    157\n",
       "3961705    152\n",
       "Name: county_num, Length: 3961706, dtype: object"
      ]
     },
     "execution_count": 11,
     "metadata": {},
     "output_type": "execute_result"
    }
   ],
   "source": [
    "df.pop('county_num')"
   ]
  },
  {
   "cell_type": "code",
   "execution_count": 12,
   "metadata": {},
   "outputs": [],
   "source": [
    "# rename voter_registration_number column to fit other data warehouse tables\n",
    "df = df.rename(columns={'registration_num': 'voter_registration_number'})"
   ]
  },
  {
   "cell_type": "code",
   "execution_count": 13,
   "metadata": {},
   "outputs": [],
   "source": [
    "# function to add index to new DataFrame\n",
    "def add_row_names(column):\n",
    "    counter = 0\n",
    "    row_name_list = []\n",
    "    for row in column:\n",
    "        counter += 1\n",
    "        row_name_list.append(counter)\n",
    "    return row_name_list"
   ]
  },
  {
   "cell_type": "code",
   "execution_count": 14,
   "metadata": {},
   "outputs": [],
   "source": [
    "if 'row_names' not in df.columns:\n",
    "    df.insert(0, 'row_names', add_row_names(df['county_name']))"
   ]
  },
  {
   "cell_type": "code",
   "execution_count": 15,
   "metadata": {},
   "outputs": [
    {
     "name": "stderr",
     "output_type": "stream",
     "text": [
      "/var/folders/2d/dn3_f8x10wzf75hxkv2506g00000gp/T/ipykernel_58189/2221766173.py:2: UserWarning: pandas only supports SQLAlchemy connectable (engine/connection) or database string URI or sqlite3 DBAPI2 connection. Other DBAPI2 objects are not tested. Please consider using SQLAlchemy.\n",
      "  election_type_df = pd.read_sql(\"SELECT * FROM `ga_sos_voters`.`lu_election_type`\", conn)\n"
     ]
    }
   ],
   "source": [
    "# make dictionary of election types\n",
    "election_type_df = pd.read_sql(\"SELECT * FROM `ga_sos_voters`.`lu_election_type`\", conn)"
   ]
  },
  {
   "cell_type": "code",
   "execution_count": 16,
   "metadata": {},
   "outputs": [],
   "source": [
    "election_type_dict = dict(zip(election_type_df.type_of_election, election_type_df.description))"
   ]
  },
  {
   "cell_type": "code",
   "execution_count": 17,
   "metadata": {},
   "outputs": [],
   "source": [
    "# Make election types all caps to match other tables\n",
    "df['election_type'] = dict_lookup_list(df['election_type'], election_type_dict)"
   ]
  },
  {
   "cell_type": "code",
   "execution_count": 18,
   "metadata": {},
   "outputs": [],
   "source": [
    "df['election_type'] = df['election_type'].str.upper()"
   ]
  },
  {
   "cell_type": "code",
   "execution_count": 19,
   "metadata": {},
   "outputs": [],
   "source": [
    "# get rid of \"None\" values to match other tables in data warehouse\n",
    "\n",
    "def remove_nones(column):\n",
    "    entry_list = []\n",
    "    for entry in column:\n",
    "        if entry == \"None\":\n",
    "            entry_list.append(\"\")\n",
    "        else:\n",
    "            entry_list.append(entry)\n",
    "    return entry_list"
   ]
  },
  {
   "cell_type": "code",
   "execution_count": 20,
   "metadata": {},
   "outputs": [],
   "source": [
    "df['county_name'] = remove_nones(df['county_name'])"
   ]
  },
  {
   "cell_type": "code",
   "execution_count": 21,
   "metadata": {},
   "outputs": [],
   "source": [
    "df['voter_registration_number'] = remove_nones(df['voter_registration_number'])"
   ]
  },
  {
   "cell_type": "code",
   "execution_count": 22,
   "metadata": {},
   "outputs": [],
   "source": [
    "df['election_date'] = remove_nones(df['election_date'])"
   ]
  },
  {
   "cell_type": "code",
   "execution_count": 23,
   "metadata": {},
   "outputs": [],
   "source": [
    "df['election_type'] = remove_nones(df['election_type'])"
   ]
  },
  {
   "cell_type": "code",
   "execution_count": 24,
   "metadata": {},
   "outputs": [],
   "source": [
    "df['party'] = remove_nones(df['party'])"
   ]
  },
  {
   "cell_type": "code",
   "execution_count": 25,
   "metadata": {},
   "outputs": [],
   "source": [
    "df['absentee'] = remove_nones(df['absentee'])"
   ]
  },
  {
   "cell_type": "code",
   "execution_count": 26,
   "metadata": {},
   "outputs": [],
   "source": [
    "df['provisional'] = remove_nones(df['provisional'])"
   ]
  },
  {
   "cell_type": "code",
   "execution_count": 27,
   "metadata": {},
   "outputs": [],
   "source": [
    "df['supplemental'] = remove_nones(df['supplemental'])"
   ]
  },
  {
   "cell_type": "code",
   "execution_count": 28,
   "metadata": {},
   "outputs": [],
   "source": [
    "# add or delete columns not used in other tables\n",
    "if 'ballot_style' not in df.columns:\n",
    "    df.insert(6, 'ballot_style', '')"
   ]
  },
  {
   "cell_type": "code",
   "execution_count": 29,
   "metadata": {},
   "outputs": [],
   "source": [
    "if 'data_from_history_year_file' in df.columns:\n",
    "    df.pop('data_from_history_year_file')"
   ]
  },
  {
   "cell_type": "code",
   "execution_count": 30,
   "metadata": {},
   "outputs": [],
   "source": [
    "if 'ajc_data_acquisition_year' in df.columns:\n",
    "    df.pop('ajc_data_acquisition_year')"
   ]
  },
  {
   "cell_type": "code",
   "execution_count": 31,
   "metadata": {},
   "outputs": [],
   "source": [
    "if 'ajc_data_loader_initials' in df.columns:\n",
    "    df.pop('ajc_data_loader_initials')"
   ]
  },
  {
   "cell_type": "code",
   "execution_count": 32,
   "metadata": {},
   "outputs": [
    {
     "data": {
      "text/plain": [
       "election_type\n",
       "GENERAL ELECTION    3961706\n",
       "Name: count, dtype: int64"
      ]
     },
     "execution_count": 32,
     "metadata": {},
     "output_type": "execute_result"
    }
   ],
   "source": [
    "# there are both \"GENERAL ELECTION\" values and \"GENERAL/SPECIAL ELECTION\" values, and the vast majority are not duplicates\n",
    "# I will use both values to filter and dedupe so that I am not missing 1/3 of the voters\n",
    "# it would be a good idea to run this same notebook on more recent tables to check how this process compares to what the state does to get their values filtered\n",
    "df.election_type.value_counts()"
   ]
  },
  {
   "cell_type": "code",
   "execution_count": 33,
   "metadata": {},
   "outputs": [
    {
     "data": {
      "text/plain": [
       "party\n",
       "    3961706\n",
       "Name: count, dtype: int64"
      ]
     },
     "execution_count": 33,
     "metadata": {},
     "output_type": "execute_result"
    }
   ],
   "source": [
    "df[df['election_type'] == 'GENERAL ELECTION'].party.value_counts()"
   ]
  },
  {
   "cell_type": "code",
   "execution_count": 34,
   "metadata": {},
   "outputs": [],
   "source": [
    "filtered_date_df = df[df['election_date'] == election_date]"
   ]
  },
  {
   "cell_type": "code",
   "execution_count": 35,
   "metadata": {},
   "outputs": [],
   "source": [
    "filtered_election_df = df[(df['election_type'] == election_type1) | (df['election_type'] == election_type2) | (df['election_type'] == election_type3)]"
   ]
  },
  {
   "cell_type": "code",
   "execution_count": 36,
   "metadata": {},
   "outputs": [],
   "source": [
    "filtered_date_election_df = filtered_election_df[filtered_election_df['election_date'] == election_date]"
   ]
  },
  {
   "cell_type": "code",
   "execution_count": 37,
   "metadata": {},
   "outputs": [],
   "source": [
    "filtered_date_election_df.row_names = add_row_names(filtered_date_election_df['county_name'])"
   ]
  },
  {
   "cell_type": "code",
   "execution_count": 38,
   "metadata": {},
   "outputs": [
    {
     "data": {
      "text/html": [
       "<div>\n",
       "<style scoped>\n",
       "    .dataframe tbody tr th:only-of-type {\n",
       "        vertical-align: middle;\n",
       "    }\n",
       "\n",
       "    .dataframe tbody tr th {\n",
       "        vertical-align: top;\n",
       "    }\n",
       "\n",
       "    .dataframe thead th {\n",
       "        text-align: right;\n",
       "    }\n",
       "</style>\n",
       "<table border=\"1\" class=\"dataframe\">\n",
       "  <thead>\n",
       "    <tr style=\"text-align: right;\">\n",
       "      <th></th>\n",
       "      <th>row_names</th>\n",
       "      <th>county_name</th>\n",
       "      <th>ajc_id_num</th>\n",
       "      <th>voter_registration_number</th>\n",
       "      <th>election_date</th>\n",
       "      <th>election_type</th>\n",
       "      <th>ballot_style</th>\n",
       "      <th>party</th>\n",
       "      <th>absentee</th>\n",
       "      <th>provisional</th>\n",
       "      <th>supplemental</th>\n",
       "    </tr>\n",
       "  </thead>\n",
       "  <tbody>\n",
       "  </tbody>\n",
       "</table>\n",
       "</div>"
      ],
      "text/plain": [
       "Empty DataFrame\n",
       "Columns: [row_names, county_name, ajc_id_num, voter_registration_number, election_date, election_type, ballot_style, party, absentee, provisional, supplemental]\n",
       "Index: []"
      ]
     },
     "execution_count": 38,
     "metadata": {},
     "output_type": "execute_result"
    }
   ],
   "source": [
    "# it is hard to tell why there are duplicates with the general and general/special election types\n",
    "filtered_date_election_df[filtered_date_election_df['voter_registration_number'].duplicated(keep=False)].sort_values('voter_registration_number')"
   ]
  },
  {
   "cell_type": "code",
   "execution_count": 39,
   "metadata": {},
   "outputs": [],
   "source": [
    "deduped_df = filtered_date_election_df.drop_duplicates('voter_registration_number')"
   ]
  },
  {
   "cell_type": "code",
   "execution_count": 40,
   "metadata": {},
   "outputs": [
    {
     "data": {
      "text/plain": [
       "0"
      ]
     },
     "execution_count": 40,
     "metadata": {},
     "output_type": "execute_result"
    }
   ],
   "source": [
    "# there are 114 duplicated entries, and after deduping the DataFrame I have 114 fewer entries\n",
    "len(filtered_date_election_df) - len(deduped_df)"
   ]
  },
  {
   "cell_type": "code",
   "execution_count": 41,
   "metadata": {},
   "outputs": [
    {
     "data": {
      "text/plain": [
       "0"
      ]
     },
     "execution_count": 41,
     "metadata": {},
     "output_type": "execute_result"
    }
   ],
   "source": [
    "len(filtered_date_election_df[filtered_date_election_df['voter_registration_number'].duplicated()])"
   ]
  },
  {
   "cell_type": "code",
   "execution_count": 42,
   "metadata": {},
   "outputs": [
    {
     "data": {
      "text/plain": [
       "3961706"
      ]
     },
     "execution_count": 42,
     "metadata": {},
     "output_type": "execute_result"
    }
   ],
   "source": [
    "len(filtered_date_election_df.drop_duplicates('voter_registration_number'))"
   ]
  },
  {
   "cell_type": "code",
   "execution_count": 43,
   "metadata": {},
   "outputs": [
    {
     "data": {
      "text/plain": [
       "party\n",
       "    3961706\n",
       "Name: count, dtype: int64"
      ]
     },
     "execution_count": 43,
     "metadata": {},
     "output_type": "execute_result"
    }
   ],
   "source": [
    "filtered_date_election_df.party.value_counts()"
   ]
  },
  {
   "cell_type": "code",
   "execution_count": 44,
   "metadata": {},
   "outputs": [
    {
     "data": {
      "text/plain": [
       "election_type   \n",
       "GENERAL ELECTION    3961706\n",
       "Name: count, dtype: int64"
      ]
     },
     "execution_count": 44,
     "metadata": {},
     "output_type": "execute_result"
    }
   ],
   "source": [
    "filtered_date_election_df.value_counts(['election_type'])"
   ]
  },
  {
   "cell_type": "code",
   "execution_count": 46,
   "metadata": {},
   "outputs": [],
   "source": [
    "output_path = Path().cwd().parent.joinpath(f'output_csv/{output_name}')\n",
    "filtered_date_election_df.to_csv(output_path)"
   ]
  }
 ],
 "metadata": {
  "kernelspec": {
   "display_name": "Python 3",
   "language": "python",
   "name": "python3"
  },
  "language_info": {
   "codemirror_mode": {
    "name": "ipython",
    "version": 3
   },
   "file_extension": ".py",
   "mimetype": "text/x-python",
   "name": "python",
   "nbconvert_exporter": "python",
   "pygments_lexer": "ipython3",
   "version": "3.11.9"
  }
 },
 "nbformat": 4,
 "nbformat_minor": 2
}
