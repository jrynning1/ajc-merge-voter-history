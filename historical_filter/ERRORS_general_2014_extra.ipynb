{
 "cells": [
  {
   "cell_type": "code",
   "execution_count": 1,
   "metadata": {},
   "outputs": [],
   "source": [
    "# DO NOT USE SOS DOWNLOAD FOR 2014 GENERAL/SPECIAL ELECTION. IT IS MISSING VOTERS.\n",
    "# USE 'voter_history_2014' FROM DATA WAREHOUSE INSTEAD."
   ]
  },
  {
   "cell_type": "code",
   "execution_count": 2,
   "metadata": {},
   "outputs": [],
   "source": [
    "import pandas as pd\n",
    "import datetime\n",
    "import mariadb\n",
    "import numpy as np\n",
    "import os\n",
    "from pathlib import Path"
   ]
  },
  {
   "cell_type": "code",
   "execution_count": 3,
   "metadata": {},
   "outputs": [],
   "source": [
    "# make sure these values are correct for each iteration of this notebook\n",
    "# all other fields should run without changes\n",
    "election_date = '2014-11-04'\n",
    "election_type1 = 'GENERAL ELECTION'\n",
    "election_type2 = 'None'\n",
    "election_type3 = 'None'\n",
    "sql_query = \"SELECT * FROM `ga_sos_voters`.`voter_history_2014`\"\n",
    "output_name = \"general_2014.csv\"\n"
   ]
  },
  {
   "cell_type": "code",
   "execution_count": 4,
   "metadata": {},
   "outputs": [],
   "source": [
    "# Connect to data warehouse with MariaDB\n",
    "try:\n",
    "    conn = mariadb.connect(\n",
    "        user=os.getenv(\"MARIADB_USER\"),\n",
    "        password=os.getenv(\"MARIADB_PASSWORD\"),\n",
    "        host=os.getenv(\"MARIADB_HOST\"),\n",
    "        port=int(os.getenv(\"MARIADB_PORT\"))\n",
    "    )\n",
    "except mariadb.Error as e:\n",
    "    print(f\"Error connecting to MariaDB Platform: {e}\")\n",
    "    sys.exit(1)\n",
    "\n",
    "# Get Cursor\n",
    "cur = conn.cursor()"
   ]
  },
  {
   "cell_type": "code",
   "execution_count": 5,
   "metadata": {},
   "outputs": [
    {
     "name": "stderr",
     "output_type": "stream",
     "text": [
      "/var/folders/2d/dn3_f8x10wzf75hxkv2506g00000gp/T/ipykernel_51330/2992080012.py:2: UserWarning: pandas only supports SQLAlchemy connectable (engine/connection) or database string URI or sqlite3 DBAPI2 connection. Other DBAPI2 objects are not tested. Please consider using SQLAlchemy.\n",
      "  original_table = pd.read_sql(sql_query, conn, dtype='str')\n"
     ]
    }
   ],
   "source": [
    "# pull contents of SQL table into Pandas DataFrame\n",
    "original_table = pd.read_sql(sql_query, conn, dtype='str')"
   ]
  },
  {
   "cell_type": "code",
   "execution_count": 6,
   "metadata": {},
   "outputs": [],
   "source": [
    "# make copy to avoid having to redownload as often\n",
    "df = original_table.copy()"
   ]
  },
  {
   "cell_type": "code",
   "execution_count": 7,
   "metadata": {},
   "outputs": [
    {
     "data": {
      "text/html": [
       "<div>\n",
       "<style scoped>\n",
       "    .dataframe tbody tr th:only-of-type {\n",
       "        vertical-align: middle;\n",
       "    }\n",
       "\n",
       "    .dataframe tbody tr th {\n",
       "        vertical-align: top;\n",
       "    }\n",
       "\n",
       "    .dataframe thead th {\n",
       "        text-align: right;\n",
       "    }\n",
       "</style>\n",
       "<table border=\"1\" class=\"dataframe\">\n",
       "  <thead>\n",
       "    <tr style=\"text-align: right;\">\n",
       "      <th></th>\n",
       "      <th>county_num</th>\n",
       "      <th>registration_num</th>\n",
       "      <th>election_date</th>\n",
       "      <th>election_type</th>\n",
       "      <th>party</th>\n",
       "      <th>absentee</th>\n",
       "      <th>provisional</th>\n",
       "      <th>supplemental</th>\n",
       "      <th>data_from_history_year_file</th>\n",
       "      <th>ajc_data_acquisition_year</th>\n",
       "      <th>ajc_data_loader_initials</th>\n",
       "      <th>ajc_id_num</th>\n",
       "    </tr>\n",
       "  </thead>\n",
       "  <tbody>\n",
       "    <tr>\n",
       "      <th>0</th>\n",
       "      <td>143</td>\n",
       "      <td>00746640</td>\n",
       "      <td>2014-03-18</td>\n",
       "      <td>005</td>\n",
       "      <td>Y</td>\n",
       "      <td>Y</td>\n",
       "      <td>N</td>\n",
       "      <td>N</td>\n",
       "      <td>2014</td>\n",
       "      <td>2016</td>\n",
       "      <td>JLP</td>\n",
       "      <td>1</td>\n",
       "    </tr>\n",
       "    <tr>\n",
       "      <th>1</th>\n",
       "      <td>143</td>\n",
       "      <td>05956114</td>\n",
       "      <td>2014-03-18</td>\n",
       "      <td>005</td>\n",
       "      <td>Y</td>\n",
       "      <td>Y</td>\n",
       "      <td>N</td>\n",
       "      <td>N</td>\n",
       "      <td>2014</td>\n",
       "      <td>2016</td>\n",
       "      <td>JLP</td>\n",
       "      <td>2</td>\n",
       "    </tr>\n",
       "    <tr>\n",
       "      <th>2</th>\n",
       "      <td>143</td>\n",
       "      <td>05607322</td>\n",
       "      <td>2014-03-18</td>\n",
       "      <td>005</td>\n",
       "      <td>Y</td>\n",
       "      <td>Y</td>\n",
       "      <td>N</td>\n",
       "      <td>N</td>\n",
       "      <td>2014</td>\n",
       "      <td>2016</td>\n",
       "      <td>JLP</td>\n",
       "      <td>3</td>\n",
       "    </tr>\n",
       "    <tr>\n",
       "      <th>3</th>\n",
       "      <td>143</td>\n",
       "      <td>05689778</td>\n",
       "      <td>2014-03-18</td>\n",
       "      <td>005</td>\n",
       "      <td>Y</td>\n",
       "      <td>Y</td>\n",
       "      <td>N</td>\n",
       "      <td>N</td>\n",
       "      <td>2014</td>\n",
       "      <td>2016</td>\n",
       "      <td>JLP</td>\n",
       "      <td>4</td>\n",
       "    </tr>\n",
       "    <tr>\n",
       "      <th>4</th>\n",
       "      <td>143</td>\n",
       "      <td>10162548</td>\n",
       "      <td>2014-03-18</td>\n",
       "      <td>005</td>\n",
       "      <td>Y</td>\n",
       "      <td>Y</td>\n",
       "      <td>N</td>\n",
       "      <td>N</td>\n",
       "      <td>2014</td>\n",
       "      <td>2016</td>\n",
       "      <td>JLP</td>\n",
       "      <td>5</td>\n",
       "    </tr>\n",
       "    <tr>\n",
       "      <th>5</th>\n",
       "      <td>143</td>\n",
       "      <td>10162560</td>\n",
       "      <td>2014-03-18</td>\n",
       "      <td>005</td>\n",
       "      <td>Y</td>\n",
       "      <td>Y</td>\n",
       "      <td>N</td>\n",
       "      <td>N</td>\n",
       "      <td>2014</td>\n",
       "      <td>2016</td>\n",
       "      <td>JLP</td>\n",
       "      <td>6</td>\n",
       "    </tr>\n",
       "    <tr>\n",
       "      <th>6</th>\n",
       "      <td>143</td>\n",
       "      <td>05267044</td>\n",
       "      <td>2014-03-18</td>\n",
       "      <td>005</td>\n",
       "      <td>Y</td>\n",
       "      <td>Y</td>\n",
       "      <td>N</td>\n",
       "      <td>N</td>\n",
       "      <td>2014</td>\n",
       "      <td>2016</td>\n",
       "      <td>JLP</td>\n",
       "      <td>7</td>\n",
       "    </tr>\n",
       "    <tr>\n",
       "      <th>7</th>\n",
       "      <td>143</td>\n",
       "      <td>07410768</td>\n",
       "      <td>2014-03-18</td>\n",
       "      <td>005</td>\n",
       "      <td>Y</td>\n",
       "      <td>Y</td>\n",
       "      <td>N</td>\n",
       "      <td>N</td>\n",
       "      <td>2014</td>\n",
       "      <td>2016</td>\n",
       "      <td>JLP</td>\n",
       "      <td>8</td>\n",
       "    </tr>\n",
       "    <tr>\n",
       "      <th>8</th>\n",
       "      <td>143</td>\n",
       "      <td>08366498</td>\n",
       "      <td>2014-03-18</td>\n",
       "      <td>005</td>\n",
       "      <td>Y</td>\n",
       "      <td>Y</td>\n",
       "      <td>N</td>\n",
       "      <td>N</td>\n",
       "      <td>2014</td>\n",
       "      <td>2016</td>\n",
       "      <td>JLP</td>\n",
       "      <td>9</td>\n",
       "    </tr>\n",
       "    <tr>\n",
       "      <th>9</th>\n",
       "      <td>143</td>\n",
       "      <td>07742525</td>\n",
       "      <td>2014-03-18</td>\n",
       "      <td>005</td>\n",
       "      <td>Y</td>\n",
       "      <td>Y</td>\n",
       "      <td>N</td>\n",
       "      <td>N</td>\n",
       "      <td>2014</td>\n",
       "      <td>2016</td>\n",
       "      <td>JLP</td>\n",
       "      <td>10</td>\n",
       "    </tr>\n",
       "    <tr>\n",
       "      <th>10</th>\n",
       "      <td>143</td>\n",
       "      <td>00467749</td>\n",
       "      <td>2014-03-18</td>\n",
       "      <td>005</td>\n",
       "      <td>Y</td>\n",
       "      <td>Y</td>\n",
       "      <td>N</td>\n",
       "      <td>N</td>\n",
       "      <td>2014</td>\n",
       "      <td>2016</td>\n",
       "      <td>JLP</td>\n",
       "      <td>11</td>\n",
       "    </tr>\n",
       "    <tr>\n",
       "      <th>11</th>\n",
       "      <td>143</td>\n",
       "      <td>00339362</td>\n",
       "      <td>2014-03-18</td>\n",
       "      <td>005</td>\n",
       "      <td>Y</td>\n",
       "      <td>Y</td>\n",
       "      <td>N</td>\n",
       "      <td>N</td>\n",
       "      <td>2014</td>\n",
       "      <td>2016</td>\n",
       "      <td>JLP</td>\n",
       "      <td>12</td>\n",
       "    </tr>\n",
       "    <tr>\n",
       "      <th>12</th>\n",
       "      <td>143</td>\n",
       "      <td>06485426</td>\n",
       "      <td>2014-03-18</td>\n",
       "      <td>005</td>\n",
       "      <td>Y</td>\n",
       "      <td>Y</td>\n",
       "      <td>N</td>\n",
       "      <td>N</td>\n",
       "      <td>2014</td>\n",
       "      <td>2016</td>\n",
       "      <td>JLP</td>\n",
       "      <td>13</td>\n",
       "    </tr>\n",
       "    <tr>\n",
       "      <th>13</th>\n",
       "      <td>073</td>\n",
       "      <td>00298570</td>\n",
       "      <td>2014-03-18</td>\n",
       "      <td>008</td>\n",
       "      <td>Y</td>\n",
       "      <td>Y</td>\n",
       "      <td>N</td>\n",
       "      <td>N</td>\n",
       "      <td>2014</td>\n",
       "      <td>2016</td>\n",
       "      <td>JLP</td>\n",
       "      <td>14</td>\n",
       "    </tr>\n",
       "    <tr>\n",
       "      <th>14</th>\n",
       "      <td>073</td>\n",
       "      <td>00298571</td>\n",
       "      <td>2014-03-18</td>\n",
       "      <td>008</td>\n",
       "      <td>Y</td>\n",
       "      <td>Y</td>\n",
       "      <td>N</td>\n",
       "      <td>N</td>\n",
       "      <td>2014</td>\n",
       "      <td>2016</td>\n",
       "      <td>JLP</td>\n",
       "      <td>15</td>\n",
       "    </tr>\n",
       "    <tr>\n",
       "      <th>15</th>\n",
       "      <td>073</td>\n",
       "      <td>00763562</td>\n",
       "      <td>2014-03-18</td>\n",
       "      <td>008</td>\n",
       "      <td>Y</td>\n",
       "      <td>Y</td>\n",
       "      <td>N</td>\n",
       "      <td>N</td>\n",
       "      <td>2014</td>\n",
       "      <td>2016</td>\n",
       "      <td>JLP</td>\n",
       "      <td>16</td>\n",
       "    </tr>\n",
       "    <tr>\n",
       "      <th>16</th>\n",
       "      <td>073</td>\n",
       "      <td>00763560</td>\n",
       "      <td>2014-03-18</td>\n",
       "      <td>008</td>\n",
       "      <td>Y</td>\n",
       "      <td>Y</td>\n",
       "      <td>N</td>\n",
       "      <td>N</td>\n",
       "      <td>2014</td>\n",
       "      <td>2016</td>\n",
       "      <td>JLP</td>\n",
       "      <td>17</td>\n",
       "    </tr>\n",
       "    <tr>\n",
       "      <th>17</th>\n",
       "      <td>073</td>\n",
       "      <td>01652011</td>\n",
       "      <td>2014-03-18</td>\n",
       "      <td>008</td>\n",
       "      <td>Y</td>\n",
       "      <td>Y</td>\n",
       "      <td>N</td>\n",
       "      <td>N</td>\n",
       "      <td>2014</td>\n",
       "      <td>2016</td>\n",
       "      <td>JLP</td>\n",
       "      <td>18</td>\n",
       "    </tr>\n",
       "    <tr>\n",
       "      <th>18</th>\n",
       "      <td>073</td>\n",
       "      <td>01652012</td>\n",
       "      <td>2014-03-18</td>\n",
       "      <td>008</td>\n",
       "      <td>Y</td>\n",
       "      <td>Y</td>\n",
       "      <td>N</td>\n",
       "      <td>N</td>\n",
       "      <td>2014</td>\n",
       "      <td>2016</td>\n",
       "      <td>JLP</td>\n",
       "      <td>19</td>\n",
       "    </tr>\n",
       "    <tr>\n",
       "      <th>19</th>\n",
       "      <td>073</td>\n",
       "      <td>01561078</td>\n",
       "      <td>2014-03-18</td>\n",
       "      <td>008</td>\n",
       "      <td>Y</td>\n",
       "      <td>Y</td>\n",
       "      <td>N</td>\n",
       "      <td>N</td>\n",
       "      <td>2014</td>\n",
       "      <td>2016</td>\n",
       "      <td>JLP</td>\n",
       "      <td>20</td>\n",
       "    </tr>\n",
       "  </tbody>\n",
       "</table>\n",
       "</div>"
      ],
      "text/plain": [
       "   county_num registration_num election_date election_type party absentee  \\\n",
       "0         143         00746640    2014-03-18           005     Y        Y   \n",
       "1         143         05956114    2014-03-18           005     Y        Y   \n",
       "2         143         05607322    2014-03-18           005     Y        Y   \n",
       "3         143         05689778    2014-03-18           005     Y        Y   \n",
       "4         143         10162548    2014-03-18           005     Y        Y   \n",
       "5         143         10162560    2014-03-18           005     Y        Y   \n",
       "6         143         05267044    2014-03-18           005     Y        Y   \n",
       "7         143         07410768    2014-03-18           005     Y        Y   \n",
       "8         143         08366498    2014-03-18           005     Y        Y   \n",
       "9         143         07742525    2014-03-18           005     Y        Y   \n",
       "10        143         00467749    2014-03-18           005     Y        Y   \n",
       "11        143         00339362    2014-03-18           005     Y        Y   \n",
       "12        143         06485426    2014-03-18           005     Y        Y   \n",
       "13        073         00298570    2014-03-18           008     Y        Y   \n",
       "14        073         00298571    2014-03-18           008     Y        Y   \n",
       "15        073         00763562    2014-03-18           008     Y        Y   \n",
       "16        073         00763560    2014-03-18           008     Y        Y   \n",
       "17        073         01652011    2014-03-18           008     Y        Y   \n",
       "18        073         01652012    2014-03-18           008     Y        Y   \n",
       "19        073         01561078    2014-03-18           008     Y        Y   \n",
       "\n",
       "   provisional supplemental data_from_history_year_file  \\\n",
       "0            N            N                        2014   \n",
       "1            N            N                        2014   \n",
       "2            N            N                        2014   \n",
       "3            N            N                        2014   \n",
       "4            N            N                        2014   \n",
       "5            N            N                        2014   \n",
       "6            N            N                        2014   \n",
       "7            N            N                        2014   \n",
       "8            N            N                        2014   \n",
       "9            N            N                        2014   \n",
       "10           N            N                        2014   \n",
       "11           N            N                        2014   \n",
       "12           N            N                        2014   \n",
       "13           N            N                        2014   \n",
       "14           N            N                        2014   \n",
       "15           N            N                        2014   \n",
       "16           N            N                        2014   \n",
       "17           N            N                        2014   \n",
       "18           N            N                        2014   \n",
       "19           N            N                        2014   \n",
       "\n",
       "   ajc_data_acquisition_year ajc_data_loader_initials ajc_id_num  \n",
       "0                       2016                      JLP          1  \n",
       "1                       2016                      JLP          2  \n",
       "2                       2016                      JLP          3  \n",
       "3                       2016                      JLP          4  \n",
       "4                       2016                      JLP          5  \n",
       "5                       2016                      JLP          6  \n",
       "6                       2016                      JLP          7  \n",
       "7                       2016                      JLP          8  \n",
       "8                       2016                      JLP          9  \n",
       "9                       2016                      JLP         10  \n",
       "10                      2016                      JLP         11  \n",
       "11                      2016                      JLP         12  \n",
       "12                      2016                      JLP         13  \n",
       "13                      2016                      JLP         14  \n",
       "14                      2016                      JLP         15  \n",
       "15                      2016                      JLP         16  \n",
       "16                      2016                      JLP         17  \n",
       "17                      2016                      JLP         18  \n",
       "18                      2016                      JLP         19  \n",
       "19                      2016                      JLP         20  "
      ]
     },
     "execution_count": 7,
     "metadata": {},
     "output_type": "execute_result"
    }
   ],
   "source": [
    "df.head(20)"
   ]
  },
  {
   "cell_type": "code",
   "execution_count": 8,
   "metadata": {},
   "outputs": [
    {
     "name": "stderr",
     "output_type": "stream",
     "text": [
      "/var/folders/2d/dn3_f8x10wzf75hxkv2506g00000gp/T/ipykernel_51330/470233134.py:2: UserWarning: pandas only supports SQLAlchemy connectable (engine/connection) or database string URI or sqlite3 DBAPI2 connection. Other DBAPI2 objects are not tested. Please consider using SQLAlchemy.\n",
      "  county_code_df = pd.read_sql(\"SELECT * FROM `ga_sos_voters`.`lu_countycode`\", conn, dtype='str')\n"
     ]
    }
   ],
   "source": [
    "# pull county code list and make dictionary\n",
    "county_code_df = pd.read_sql(\"SELECT * FROM `ga_sos_voters`.`lu_countycode`\", conn, dtype='str')"
   ]
  },
  {
   "cell_type": "code",
   "execution_count": 9,
   "metadata": {},
   "outputs": [],
   "source": [
    "county_code_dict = dict(zip(county_code_df.COUNTY_CODE, county_code_df.COUNTY))"
   ]
  },
  {
   "cell_type": "code",
   "execution_count": 10,
   "metadata": {},
   "outputs": [],
   "source": [
    "# make function to use dictionaries to fill in DataFrame columns with expanded information\n",
    "def dict_lookup_list(column, dictionary):\n",
    "    county_list = []\n",
    "    for entry in column:\n",
    "        if len(entry) == 3:\n",
    "            county_name = dictionary.get(f'{entry}')\n",
    "            county_list.append(county_name)\n",
    "        else:\n",
    "            county_list.append(entry)\n",
    "    return county_list"
   ]
  },
  {
   "cell_type": "code",
   "execution_count": 11,
   "metadata": {},
   "outputs": [],
   "source": [
    "# use dict_lookup_list() to fill in 'county_name' and get rid of 'county_num'\n",
    "if 'county_num' in df.columns:\n",
    "    df.insert(0, 'county_name', dict_lookup_list(df.county_num, county_code_dict))"
   ]
  },
  {
   "cell_type": "code",
   "execution_count": 12,
   "metadata": {},
   "outputs": [
    {
     "data": {
      "text/plain": [
       "0          143\n",
       "1          143\n",
       "2          143\n",
       "3          143\n",
       "4          143\n",
       "          ... \n",
       "4269686    146\n",
       "4269687    146\n",
       "4269688    146\n",
       "4269689    146\n",
       "4269690    146\n",
       "Name: county_num, Length: 4269691, dtype: object"
      ]
     },
     "execution_count": 12,
     "metadata": {},
     "output_type": "execute_result"
    }
   ],
   "source": [
    "df.pop('county_num')"
   ]
  },
  {
   "cell_type": "code",
   "execution_count": 13,
   "metadata": {},
   "outputs": [],
   "source": [
    "# rename voter_registration_number column to fit other data warehouse tables\n",
    "df = df.rename(columns={'registration_num': 'voter_registration_number'})"
   ]
  },
  {
   "cell_type": "code",
   "execution_count": 14,
   "metadata": {},
   "outputs": [],
   "source": [
    "# function to add index to new DataFrame\n",
    "def add_row_names(column):\n",
    "    counter = 0\n",
    "    row_name_list = []\n",
    "    for row in column:\n",
    "        counter += 1\n",
    "        row_name_list.append(counter)\n",
    "    return row_name_list"
   ]
  },
  {
   "cell_type": "code",
   "execution_count": 15,
   "metadata": {},
   "outputs": [],
   "source": [
    "if 'row_names' not in df.columns:\n",
    "    df.insert(0, 'row_names', add_row_names(df['county_name']))"
   ]
  },
  {
   "cell_type": "code",
   "execution_count": 16,
   "metadata": {},
   "outputs": [
    {
     "name": "stderr",
     "output_type": "stream",
     "text": [
      "/var/folders/2d/dn3_f8x10wzf75hxkv2506g00000gp/T/ipykernel_51330/2221766173.py:2: UserWarning: pandas only supports SQLAlchemy connectable (engine/connection) or database string URI or sqlite3 DBAPI2 connection. Other DBAPI2 objects are not tested. Please consider using SQLAlchemy.\n",
      "  election_type_df = pd.read_sql(\"SELECT * FROM `ga_sos_voters`.`lu_election_type`\", conn)\n"
     ]
    }
   ],
   "source": [
    "# make dictionary of election types\n",
    "election_type_df = pd.read_sql(\"SELECT * FROM `ga_sos_voters`.`lu_election_type`\", conn)"
   ]
  },
  {
   "cell_type": "code",
   "execution_count": 17,
   "metadata": {},
   "outputs": [],
   "source": [
    "election_type_dict = dict(zip(election_type_df.type_of_election, election_type_df.description))"
   ]
  },
  {
   "cell_type": "code",
   "execution_count": 18,
   "metadata": {},
   "outputs": [],
   "source": [
    "# Make election types all caps to match other tables\n",
    "df['election_type'] = dict_lookup_list(df['election_type'], election_type_dict)"
   ]
  },
  {
   "cell_type": "code",
   "execution_count": 19,
   "metadata": {},
   "outputs": [],
   "source": [
    "df['election_type'] = df['election_type'].str.upper()"
   ]
  },
  {
   "cell_type": "code",
   "execution_count": 20,
   "metadata": {},
   "outputs": [],
   "source": [
    "# get rid of \"None\" values to match other tables in data warehouse\n",
    "\n",
    "def remove_nones(column):\n",
    "    entry_list = []\n",
    "    for entry in column:\n",
    "        if entry == \"None\":\n",
    "            entry_list.append(\"\")\n",
    "        else:\n",
    "            entry_list.append(entry)\n",
    "    return entry_list"
   ]
  },
  {
   "cell_type": "code",
   "execution_count": 21,
   "metadata": {},
   "outputs": [],
   "source": [
    "df['county_name'] = remove_nones(df['county_name'])"
   ]
  },
  {
   "cell_type": "code",
   "execution_count": 22,
   "metadata": {},
   "outputs": [],
   "source": [
    "df['voter_registration_number'] = remove_nones(df['voter_registration_number'])"
   ]
  },
  {
   "cell_type": "code",
   "execution_count": 23,
   "metadata": {},
   "outputs": [],
   "source": [
    "df['election_date'] = remove_nones(df['election_date'])"
   ]
  },
  {
   "cell_type": "code",
   "execution_count": 24,
   "metadata": {},
   "outputs": [],
   "source": [
    "df['election_type'] = remove_nones(df['election_type'])"
   ]
  },
  {
   "cell_type": "code",
   "execution_count": 25,
   "metadata": {},
   "outputs": [],
   "source": [
    "df['party'] = remove_nones(df['party'])"
   ]
  },
  {
   "cell_type": "code",
   "execution_count": 26,
   "metadata": {},
   "outputs": [],
   "source": [
    "df['absentee'] = remove_nones(df['absentee'])"
   ]
  },
  {
   "cell_type": "code",
   "execution_count": 27,
   "metadata": {},
   "outputs": [],
   "source": [
    "df['provisional'] = remove_nones(df['provisional'])"
   ]
  },
  {
   "cell_type": "code",
   "execution_count": 28,
   "metadata": {},
   "outputs": [],
   "source": [
    "df['supplemental'] = remove_nones(df['supplemental'])"
   ]
  },
  {
   "cell_type": "code",
   "execution_count": 29,
   "metadata": {},
   "outputs": [],
   "source": [
    "# add or delete columns not used in other tables\n",
    "if 'ballot_style' not in df.columns:\n",
    "    df.insert(6, 'ballot_style', '')"
   ]
  },
  {
   "cell_type": "code",
   "execution_count": 30,
   "metadata": {},
   "outputs": [],
   "source": [
    "if 'data_from_history_year_file' in df.columns:\n",
    "    df.pop('data_from_history_year_file')"
   ]
  },
  {
   "cell_type": "code",
   "execution_count": 31,
   "metadata": {},
   "outputs": [],
   "source": [
    "if 'ajc_data_acquisition_year' in df.columns:\n",
    "    df.pop('ajc_data_acquisition_year')"
   ]
  },
  {
   "cell_type": "code",
   "execution_count": 32,
   "metadata": {},
   "outputs": [],
   "source": [
    "if 'ajc_data_loader_initials' in df.columns:\n",
    "    df.pop('ajc_data_loader_initials')"
   ]
  },
  {
   "cell_type": "code",
   "execution_count": 33,
   "metadata": {},
   "outputs": [
    {
     "data": {
      "text/plain": [
       "election_type\n",
       "GENERAL ELECTION            2595786\n",
       "GENERAL PRIMARY ELECTION     984350\n",
       "GENERAL PRIMARY RUNOFF       634310\n",
       "SPECIAL ELECTION              24453\n",
       "GENERAL ELECTION RUNOFF       17746\n",
       "SPECIAL ELECTION RUNOFF       10524\n",
       "MUNICIPAL ELECTION             2168\n",
       "RECALL                          354\n",
       "Name: count, dtype: int64"
      ]
     },
     "execution_count": 33,
     "metadata": {},
     "output_type": "execute_result"
    }
   ],
   "source": [
    "# there are both \"GENERAL ELECTION\" values and \"GENERAL/SPECIAL ELECTION\" values, and the vast majority are not duplicates\n",
    "# I will use both values to filter and dedupe so that I am not missing 1/3 of the voters\n",
    "# it would be a good idea to run this same notebook on more recent tables to check how this process compares to what the state does to get their values filtered\n",
    "df.election_type.value_counts()"
   ]
  },
  {
   "cell_type": "code",
   "execution_count": null,
   "metadata": {},
   "outputs": [],
   "source": []
  },
  {
   "cell_type": "code",
   "execution_count": 34,
   "metadata": {},
   "outputs": [
    {
     "data": {
      "text/plain": [
       "party\n",
       "N    1640788\n",
       "Y     954998\n",
       "Name: count, dtype: int64"
      ]
     },
     "execution_count": 34,
     "metadata": {},
     "output_type": "execute_result"
    }
   ],
   "source": [
    "df[df['election_type'] == 'GENERAL ELECTION'].party.value_counts()"
   ]
  },
  {
   "cell_type": "code",
   "execution_count": 35,
   "metadata": {},
   "outputs": [],
   "source": [
    "filtered_date_df = df[df['election_date'] == election_date]"
   ]
  },
  {
   "cell_type": "code",
   "execution_count": 36,
   "metadata": {},
   "outputs": [],
   "source": [
    "filtered_election_df = df[(df['election_type'] == election_type1) | (df['election_type'] == election_type2) | (df['election_type'] == election_type3)]"
   ]
  },
  {
   "cell_type": "code",
   "execution_count": 37,
   "metadata": {},
   "outputs": [],
   "source": [
    "filtered_date_election_df = filtered_election_df[filtered_election_df['election_date'] == election_date]"
   ]
  },
  {
   "cell_type": "code",
   "execution_count": 38,
   "metadata": {},
   "outputs": [],
   "source": [
    "filtered_date_election_df.row_names = add_row_names(filtered_date_election_df['county_name'])"
   ]
  },
  {
   "cell_type": "code",
   "execution_count": 39,
   "metadata": {},
   "outputs": [
    {
     "data": {
      "text/html": [
       "<div>\n",
       "<style scoped>\n",
       "    .dataframe tbody tr th:only-of-type {\n",
       "        vertical-align: middle;\n",
       "    }\n",
       "\n",
       "    .dataframe tbody tr th {\n",
       "        vertical-align: top;\n",
       "    }\n",
       "\n",
       "    .dataframe thead th {\n",
       "        text-align: right;\n",
       "    }\n",
       "</style>\n",
       "<table border=\"1\" class=\"dataframe\">\n",
       "  <thead>\n",
       "    <tr style=\"text-align: right;\">\n",
       "      <th></th>\n",
       "      <th>row_names</th>\n",
       "      <th>county_name</th>\n",
       "      <th>voter_registration_number</th>\n",
       "      <th>election_date</th>\n",
       "      <th>election_type</th>\n",
       "      <th>party</th>\n",
       "      <th>ballot_style</th>\n",
       "      <th>absentee</th>\n",
       "      <th>provisional</th>\n",
       "      <th>supplemental</th>\n",
       "      <th>ajc_id_num</th>\n",
       "    </tr>\n",
       "  </thead>\n",
       "  <tbody>\n",
       "  </tbody>\n",
       "</table>\n",
       "</div>"
      ],
      "text/plain": [
       "Empty DataFrame\n",
       "Columns: [row_names, county_name, voter_registration_number, election_date, election_type, party, ballot_style, absentee, provisional, supplemental, ajc_id_num]\n",
       "Index: []"
      ]
     },
     "execution_count": 39,
     "metadata": {},
     "output_type": "execute_result"
    }
   ],
   "source": [
    "# it is hard to tell why there are duplicates with the general and general/special election types\n",
    "filtered_date_election_df[filtered_date_election_df['voter_registration_number'].duplicated(keep=False)].sort_values('voter_registration_number')"
   ]
  },
  {
   "cell_type": "code",
   "execution_count": 40,
   "metadata": {},
   "outputs": [],
   "source": [
    "deduped_df = filtered_date_election_df.drop_duplicates('voter_registration_number')"
   ]
  },
  {
   "cell_type": "code",
   "execution_count": 41,
   "metadata": {},
   "outputs": [
    {
     "data": {
      "text/plain": [
       "0"
      ]
     },
     "execution_count": 41,
     "metadata": {},
     "output_type": "execute_result"
    }
   ],
   "source": [
    "# there are 114 duplicated entries, and after deduping the DataFrame I have 114 fewer entries\n",
    "len(filtered_date_election_df) - len(deduped_df)"
   ]
  },
  {
   "cell_type": "code",
   "execution_count": 42,
   "metadata": {},
   "outputs": [
    {
     "data": {
      "text/plain": [
       "0"
      ]
     },
     "execution_count": 42,
     "metadata": {},
     "output_type": "execute_result"
    }
   ],
   "source": [
    "len(filtered_date_election_df[filtered_date_election_df['voter_registration_number'].duplicated()])"
   ]
  },
  {
   "cell_type": "code",
   "execution_count": 43,
   "metadata": {},
   "outputs": [
    {
     "data": {
      "text/plain": [
       "2595786"
      ]
     },
     "execution_count": 43,
     "metadata": {},
     "output_type": "execute_result"
    }
   ],
   "source": [
    "len(filtered_date_election_df.drop_duplicates('voter_registration_number'))"
   ]
  },
  {
   "cell_type": "code",
   "execution_count": 45,
   "metadata": {},
   "outputs": [
    {
     "data": {
      "text/plain": [
       "election_type   \n",
       "GENERAL ELECTION    2595786\n",
       "Name: count, dtype: int64"
      ]
     },
     "execution_count": 45,
     "metadata": {},
     "output_type": "execute_result"
    }
   ],
   "source": [
    "filtered_date_election_df.value_counts(['election_type'])"
   ]
  },
  {
   "cell_type": "code",
   "execution_count": 46,
   "metadata": {},
   "outputs": [],
   "source": [
    "output_path = Path().cwd().parent.joinpath(f'output_csv/{output_name}')\n",
    "filtered_date_election_df.to_csv(output_path)"
   ]
  },
  {
   "cell_type": "code",
   "execution_count": 47,
   "metadata": {},
   "outputs": [
    {
     "data": {
      "text/html": [
       "<div>\n",
       "<style scoped>\n",
       "    .dataframe tbody tr th:only-of-type {\n",
       "        vertical-align: middle;\n",
       "    }\n",
       "\n",
       "    .dataframe tbody tr th {\n",
       "        vertical-align: top;\n",
       "    }\n",
       "\n",
       "    .dataframe thead th {\n",
       "        text-align: right;\n",
       "    }\n",
       "</style>\n",
       "<table border=\"1\" class=\"dataframe\">\n",
       "  <thead>\n",
       "    <tr style=\"text-align: right;\">\n",
       "      <th></th>\n",
       "      <th>row_names</th>\n",
       "      <th>county_name</th>\n",
       "      <th>voter_registration_number</th>\n",
       "      <th>election_date</th>\n",
       "      <th>election_type</th>\n",
       "      <th>party</th>\n",
       "      <th>ballot_style</th>\n",
       "      <th>absentee</th>\n",
       "      <th>provisional</th>\n",
       "      <th>supplemental</th>\n",
       "      <th>ajc_id_num</th>\n",
       "    </tr>\n",
       "  </thead>\n",
       "  <tbody>\n",
       "    <tr>\n",
       "      <th>996319</th>\n",
       "      <td>1</td>\n",
       "      <td>BACON</td>\n",
       "      <td>00469744</td>\n",
       "      <td>2014-11-04</td>\n",
       "      <td>GENERAL ELECTION</td>\n",
       "      <td>Y</td>\n",
       "      <td></td>\n",
       "      <td>Y</td>\n",
       "      <td>N</td>\n",
       "      <td>N</td>\n",
       "      <td>996320</td>\n",
       "    </tr>\n",
       "    <tr>\n",
       "      <th>996320</th>\n",
       "      <td>2</td>\n",
       "      <td>BACON</td>\n",
       "      <td>00472019</td>\n",
       "      <td>2014-11-04</td>\n",
       "      <td>GENERAL ELECTION</td>\n",
       "      <td>Y</td>\n",
       "      <td></td>\n",
       "      <td>Y</td>\n",
       "      <td>N</td>\n",
       "      <td>N</td>\n",
       "      <td>996321</td>\n",
       "    </tr>\n",
       "    <tr>\n",
       "      <th>996321</th>\n",
       "      <td>3</td>\n",
       "      <td>CHATHAM</td>\n",
       "      <td>01539116</td>\n",
       "      <td>2014-11-04</td>\n",
       "      <td>GENERAL ELECTION</td>\n",
       "      <td>Y</td>\n",
       "      <td></td>\n",
       "      <td>Y</td>\n",
       "      <td>N</td>\n",
       "      <td>N</td>\n",
       "      <td>996322</td>\n",
       "    </tr>\n",
       "    <tr>\n",
       "      <th>996322</th>\n",
       "      <td>4</td>\n",
       "      <td>BROOKS</td>\n",
       "      <td>00589643</td>\n",
       "      <td>2014-11-04</td>\n",
       "      <td>GENERAL ELECTION</td>\n",
       "      <td>Y</td>\n",
       "      <td></td>\n",
       "      <td>Y</td>\n",
       "      <td>N</td>\n",
       "      <td>N</td>\n",
       "      <td>996323</td>\n",
       "    </tr>\n",
       "    <tr>\n",
       "      <th>996323</th>\n",
       "      <td>5</td>\n",
       "      <td>CHATHAM</td>\n",
       "      <td>07404428</td>\n",
       "      <td>2014-11-04</td>\n",
       "      <td>GENERAL ELECTION</td>\n",
       "      <td>Y</td>\n",
       "      <td></td>\n",
       "      <td>Y</td>\n",
       "      <td>N</td>\n",
       "      <td>N</td>\n",
       "      <td>996324</td>\n",
       "    </tr>\n",
       "    <tr>\n",
       "      <th>...</th>\n",
       "      <td>...</td>\n",
       "      <td>...</td>\n",
       "      <td>...</td>\n",
       "      <td>...</td>\n",
       "      <td>...</td>\n",
       "      <td>...</td>\n",
       "      <td>...</td>\n",
       "      <td>...</td>\n",
       "      <td>...</td>\n",
       "      <td>...</td>\n",
       "      <td>...</td>\n",
       "    </tr>\n",
       "    <tr>\n",
       "      <th>3592100</th>\n",
       "      <td>2595782</td>\n",
       "      <td>WHITFIELD</td>\n",
       "      <td>03911540</td>\n",
       "      <td>2014-11-04</td>\n",
       "      <td>GENERAL ELECTION</td>\n",
       "      <td>Y</td>\n",
       "      <td></td>\n",
       "      <td>Y</td>\n",
       "      <td>N</td>\n",
       "      <td>N</td>\n",
       "      <td>3592101</td>\n",
       "    </tr>\n",
       "    <tr>\n",
       "      <th>3592101</th>\n",
       "      <td>2595783</td>\n",
       "      <td>WASHINGTON</td>\n",
       "      <td>00745158</td>\n",
       "      <td>2014-11-04</td>\n",
       "      <td>GENERAL ELECTION</td>\n",
       "      <td>Y</td>\n",
       "      <td></td>\n",
       "      <td>Y</td>\n",
       "      <td>N</td>\n",
       "      <td>N</td>\n",
       "      <td>3592102</td>\n",
       "    </tr>\n",
       "    <tr>\n",
       "      <th>3592102</th>\n",
       "      <td>2595784</td>\n",
       "      <td>WAYNE</td>\n",
       "      <td>02303566</td>\n",
       "      <td>2014-11-04</td>\n",
       "      <td>GENERAL ELECTION</td>\n",
       "      <td>Y</td>\n",
       "      <td></td>\n",
       "      <td>Y</td>\n",
       "      <td>N</td>\n",
       "      <td>N</td>\n",
       "      <td>3592103</td>\n",
       "    </tr>\n",
       "    <tr>\n",
       "      <th>3592103</th>\n",
       "      <td>2595785</td>\n",
       "      <td>WHITFIELD</td>\n",
       "      <td>00080406</td>\n",
       "      <td>2014-11-04</td>\n",
       "      <td>GENERAL ELECTION</td>\n",
       "      <td>N</td>\n",
       "      <td></td>\n",
       "      <td>N</td>\n",
       "      <td>N</td>\n",
       "      <td>N</td>\n",
       "      <td>3592104</td>\n",
       "    </tr>\n",
       "    <tr>\n",
       "      <th>3592104</th>\n",
       "      <td>2595786</td>\n",
       "      <td>WHEELER</td>\n",
       "      <td>07370298</td>\n",
       "      <td>2014-11-04</td>\n",
       "      <td>GENERAL ELECTION</td>\n",
       "      <td>N</td>\n",
       "      <td></td>\n",
       "      <td>N</td>\n",
       "      <td>N</td>\n",
       "      <td>N</td>\n",
       "      <td>3592105</td>\n",
       "    </tr>\n",
       "  </tbody>\n",
       "</table>\n",
       "<p>2595786 rows × 11 columns</p>\n",
       "</div>"
      ],
      "text/plain": [
       "         row_names county_name voter_registration_number election_date  \\\n",
       "996319           1       BACON                  00469744    2014-11-04   \n",
       "996320           2       BACON                  00472019    2014-11-04   \n",
       "996321           3     CHATHAM                  01539116    2014-11-04   \n",
       "996322           4      BROOKS                  00589643    2014-11-04   \n",
       "996323           5     CHATHAM                  07404428    2014-11-04   \n",
       "...            ...         ...                       ...           ...   \n",
       "3592100    2595782   WHITFIELD                  03911540    2014-11-04   \n",
       "3592101    2595783  WASHINGTON                  00745158    2014-11-04   \n",
       "3592102    2595784       WAYNE                  02303566    2014-11-04   \n",
       "3592103    2595785   WHITFIELD                  00080406    2014-11-04   \n",
       "3592104    2595786     WHEELER                  07370298    2014-11-04   \n",
       "\n",
       "            election_type party ballot_style absentee provisional  \\\n",
       "996319   GENERAL ELECTION     Y                     Y           N   \n",
       "996320   GENERAL ELECTION     Y                     Y           N   \n",
       "996321   GENERAL ELECTION     Y                     Y           N   \n",
       "996322   GENERAL ELECTION     Y                     Y           N   \n",
       "996323   GENERAL ELECTION     Y                     Y           N   \n",
       "...                   ...   ...          ...      ...         ...   \n",
       "3592100  GENERAL ELECTION     Y                     Y           N   \n",
       "3592101  GENERAL ELECTION     Y                     Y           N   \n",
       "3592102  GENERAL ELECTION     Y                     Y           N   \n",
       "3592103  GENERAL ELECTION     N                     N           N   \n",
       "3592104  GENERAL ELECTION     N                     N           N   \n",
       "\n",
       "        supplemental ajc_id_num  \n",
       "996319             N     996320  \n",
       "996320             N     996321  \n",
       "996321             N     996322  \n",
       "996322             N     996323  \n",
       "996323             N     996324  \n",
       "...              ...        ...  \n",
       "3592100            N    3592101  \n",
       "3592101            N    3592102  \n",
       "3592102            N    3592103  \n",
       "3592103            N    3592104  \n",
       "3592104            N    3592105  \n",
       "\n",
       "[2595786 rows x 11 columns]"
      ]
     },
     "execution_count": 47,
     "metadata": {},
     "output_type": "execute_result"
    }
   ],
   "source": [
    "filtered_date_election_df"
   ]
  }
 ],
 "metadata": {
  "kernelspec": {
   "display_name": "Python 3",
   "language": "python",
   "name": "python3"
  },
  "language_info": {
   "codemirror_mode": {
    "name": "ipython",
    "version": 3
   },
   "file_extension": ".py",
   "mimetype": "text/x-python",
   "name": "python",
   "nbconvert_exporter": "python",
   "pygments_lexer": "ipython3",
   "version": "3.11.9"
  }
 },
 "nbformat": 4,
 "nbformat_minor": 2
}
