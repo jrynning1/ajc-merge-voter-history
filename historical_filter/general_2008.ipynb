{
 "cells": [
  {
   "cell_type": "code",
   "execution_count": 1,
   "metadata": {},
   "outputs": [],
   "source": [
    "import pandas as pd\n",
    "import datetime\n",
    "import mariadb\n",
    "import numpy as np\n",
    "from pathlib import Path\n",
    "import os"
   ]
  },
  {
   "cell_type": "code",
   "execution_count": 2,
   "metadata": {},
   "outputs": [],
   "source": [
    "# make sure these values are correct for each iteration of this notebook\n",
    "# all other fields should run without changes\n",
    "election_date = '2008-11-04'\n",
    "election_type1 = 'GENERAL ELECTION'\n",
    "election_type2 = 'None'\n",
    "election_type3 = 'None'\n",
    "sql_query = \"SELECT * FROM `ga_sos_voters`.`voter_history_2008`\"\n",
    "output_name = \"general_2008.csv\""
   ]
  },
  {
   "cell_type": "code",
   "execution_count": 3,
   "metadata": {},
   "outputs": [],
   "source": [
    "# Connect to data warehouse with MariaDB\n",
    "try:\n",
    "    conn = mariadb.connect(\n",
    "        user=os.getenv(\"MARIADB_USER\"),\n",
    "        password=os.getenv(\"MARIADB_PASSWORD\"),\n",
    "        host=os.getenv(\"MARIADB_HOST\"),\n",
    "        port=int(os.getenv(\"MARIADB_PORT\"))\n",
    "    )\n",
    "except mariadb.Error as e:\n",
    "    print(f\"Error connecting to MariaDB Platform: {e}\")\n",
    "    sys.exit(1)\n",
    "\n",
    "# Get Cursor\n",
    "cur = conn.cursor()"
   ]
  },
  {
   "cell_type": "code",
   "execution_count": 4,
   "metadata": {},
   "outputs": [
    {
     "name": "stderr",
     "output_type": "stream",
     "text": [
      "/var/folders/2d/dn3_f8x10wzf75hxkv2506g00000gp/T/ipykernel_94211/2992080012.py:2: UserWarning: pandas only supports SQLAlchemy connectable (engine/connection) or database string URI or sqlite3 DBAPI2 connection. Other DBAPI2 objects are not tested. Please consider using SQLAlchemy.\n",
      "  original_table = pd.read_sql(sql_query, conn, dtype='str')\n"
     ]
    }
   ],
   "source": [
    "# pull contents of SQL table into Pandas DataFrame\n",
    "original_table = pd.read_sql(sql_query, conn, dtype='str')"
   ]
  },
  {
   "cell_type": "code",
   "execution_count": 5,
   "metadata": {},
   "outputs": [],
   "source": [
    "# make copy to avoid having to redownload as often\n",
    "df = original_table.copy()"
   ]
  },
  {
   "cell_type": "code",
   "execution_count": 6,
   "metadata": {},
   "outputs": [
    {
     "name": "stderr",
     "output_type": "stream",
     "text": [
      "/var/folders/2d/dn3_f8x10wzf75hxkv2506g00000gp/T/ipykernel_94211/470233134.py:2: UserWarning: pandas only supports SQLAlchemy connectable (engine/connection) or database string URI or sqlite3 DBAPI2 connection. Other DBAPI2 objects are not tested. Please consider using SQLAlchemy.\n",
      "  county_code_df = pd.read_sql(\"SELECT * FROM `ga_sos_voters`.`lu_countycode`\", conn, dtype='str')\n"
     ]
    }
   ],
   "source": [
    "# pull county code list and make dictionary\n",
    "county_code_df = pd.read_sql(\"SELECT * FROM `ga_sos_voters`.`lu_countycode`\", conn, dtype='str')"
   ]
  },
  {
   "cell_type": "code",
   "execution_count": 7,
   "metadata": {},
   "outputs": [],
   "source": [
    "county_code_dict = dict(zip(county_code_df.COUNTY_CODE, county_code_df.COUNTY))"
   ]
  },
  {
   "cell_type": "code",
   "execution_count": 8,
   "metadata": {},
   "outputs": [],
   "source": [
    "# make function to use dictionaries to fill in DataFrame columns with expanded information\n",
    "def dict_lookup_list(column, dictionary):\n",
    "    county_list = []\n",
    "    for entry in column:\n",
    "        if len(entry) == 3:\n",
    "            county_name = dictionary.get(f'{entry}')\n",
    "            county_list.append(county_name)\n",
    "        else:\n",
    "            county_list.append(entry)\n",
    "    return county_list"
   ]
  },
  {
   "cell_type": "code",
   "execution_count": 9,
   "metadata": {},
   "outputs": [],
   "source": [
    "# use dict_lookup_list() to fill in 'county_name' and get rid of 'county_num'\n",
    "if 'county_num' in df.columns:\n",
    "    df.insert(0, 'county_name', dict_lookup_list(df.county_num, county_code_dict))"
   ]
  },
  {
   "cell_type": "code",
   "execution_count": 10,
   "metadata": {},
   "outputs": [
    {
     "data": {
      "text/plain": [
       "0          001\n",
       "1          001\n",
       "2          001\n",
       "3          001\n",
       "4          001\n",
       "          ... \n",
       "9628477    159\n",
       "9628478    159\n",
       "9628479    159\n",
       "9628480    159\n",
       "9628481    159\n",
       "Name: county_num, Length: 9628482, dtype: object"
      ]
     },
     "execution_count": 10,
     "metadata": {},
     "output_type": "execute_result"
    }
   ],
   "source": [
    "df.pop('county_num')"
   ]
  },
  {
   "cell_type": "code",
   "execution_count": 11,
   "metadata": {},
   "outputs": [],
   "source": [
    "# rename voter_registration_number column to fit other data warehouse tables\n",
    "df = df.rename(columns={'registration_num': 'voter_registration_number'})"
   ]
  },
  {
   "cell_type": "code",
   "execution_count": 12,
   "metadata": {},
   "outputs": [],
   "source": [
    "# function to add index to new DataFrame\n",
    "def add_row_names(column):\n",
    "    counter = 0\n",
    "    row_name_list = []\n",
    "    for row in column:\n",
    "        counter += 1\n",
    "        row_name_list.append(counter)\n",
    "    return row_name_list"
   ]
  },
  {
   "cell_type": "code",
   "execution_count": 13,
   "metadata": {},
   "outputs": [],
   "source": [
    "if 'row_names' not in df.columns:\n",
    "    df.insert(0, 'row_names', add_row_names(df['county_name']))"
   ]
  },
  {
   "cell_type": "code",
   "execution_count": 14,
   "metadata": {},
   "outputs": [
    {
     "name": "stderr",
     "output_type": "stream",
     "text": [
      "/var/folders/2d/dn3_f8x10wzf75hxkv2506g00000gp/T/ipykernel_94211/2221766173.py:2: UserWarning: pandas only supports SQLAlchemy connectable (engine/connection) or database string URI or sqlite3 DBAPI2 connection. Other DBAPI2 objects are not tested. Please consider using SQLAlchemy.\n",
      "  election_type_df = pd.read_sql(\"SELECT * FROM `ga_sos_voters`.`lu_election_type`\", conn)\n"
     ]
    }
   ],
   "source": [
    "# make dictionary of election types\n",
    "election_type_df = pd.read_sql(\"SELECT * FROM `ga_sos_voters`.`lu_election_type`\", conn)"
   ]
  },
  {
   "cell_type": "code",
   "execution_count": 15,
   "metadata": {},
   "outputs": [],
   "source": [
    "election_type_dict = dict(zip(election_type_df.type_of_election, election_type_df.description))"
   ]
  },
  {
   "cell_type": "code",
   "execution_count": 16,
   "metadata": {},
   "outputs": [],
   "source": [
    "# Make election types all caps to match other tables\n",
    "df['election_type'] = dict_lookup_list(df['election_type'], election_type_dict)"
   ]
  },
  {
   "cell_type": "code",
   "execution_count": 17,
   "metadata": {},
   "outputs": [],
   "source": [
    "df['election_type'] = df['election_type'].str.upper()"
   ]
  },
  {
   "cell_type": "code",
   "execution_count": 18,
   "metadata": {},
   "outputs": [],
   "source": [
    "df['election_date'] = df['election_date']"
   ]
  },
  {
   "cell_type": "code",
   "execution_count": 19,
   "metadata": {},
   "outputs": [],
   "source": [
    "# get rid of \"None\" values to match other tables in data warehouse\n",
    "\n",
    "def remove_nones(column):\n",
    "    entry_list = []\n",
    "    for entry in column:\n",
    "        if entry == \"None\":\n",
    "            entry_list.append(\"\")\n",
    "        else:\n",
    "            entry_list.append(entry)\n",
    "    return entry_list"
   ]
  },
  {
   "cell_type": "code",
   "execution_count": 20,
   "metadata": {},
   "outputs": [],
   "source": [
    "df['county_name'] = remove_nones(df['county_name'])"
   ]
  },
  {
   "cell_type": "code",
   "execution_count": 21,
   "metadata": {},
   "outputs": [],
   "source": [
    "df['voter_registration_number'] = remove_nones(df['voter_registration_number'])"
   ]
  },
  {
   "cell_type": "code",
   "execution_count": 22,
   "metadata": {},
   "outputs": [],
   "source": [
    "df['election_date'] = remove_nones(df['election_date'])"
   ]
  },
  {
   "cell_type": "code",
   "execution_count": 23,
   "metadata": {},
   "outputs": [],
   "source": [
    "df['election_type'] = remove_nones(df['election_type'])"
   ]
  },
  {
   "cell_type": "code",
   "execution_count": 24,
   "metadata": {},
   "outputs": [],
   "source": [
    "df['party'] = remove_nones(df['party'])"
   ]
  },
  {
   "cell_type": "code",
   "execution_count": 25,
   "metadata": {},
   "outputs": [],
   "source": [
    "df['absentee'] = remove_nones(df['absentee'])"
   ]
  },
  {
   "cell_type": "code",
   "execution_count": 26,
   "metadata": {},
   "outputs": [],
   "source": [
    "df['provisional'] = remove_nones(df['provisional'])"
   ]
  },
  {
   "cell_type": "code",
   "execution_count": 27,
   "metadata": {},
   "outputs": [],
   "source": [
    "df['supplemental'] = remove_nones(df['supplemental'])"
   ]
  },
  {
   "cell_type": "code",
   "execution_count": 28,
   "metadata": {},
   "outputs": [],
   "source": [
    "# add or delete columns not used in other tables\n",
    "if 'ballot_style' not in df.columns:\n",
    "    df.insert(6, 'ballot_style', '')"
   ]
  },
  {
   "cell_type": "code",
   "execution_count": 29,
   "metadata": {},
   "outputs": [],
   "source": [
    "if 'data_from_history_year_file' in df.columns:\n",
    "    df.pop('data_from_history_year_file')"
   ]
  },
  {
   "cell_type": "code",
   "execution_count": 30,
   "metadata": {},
   "outputs": [],
   "source": [
    "if 'ajc_data_acquisition_year' in df.columns:\n",
    "    df.pop('ajc_data_acquisition_year')"
   ]
  },
  {
   "cell_type": "code",
   "execution_count": 31,
   "metadata": {},
   "outputs": [],
   "source": [
    "if 'ajc_data_loader_initials' in df.columns:\n",
    "    df.pop('ajc_data_loader_initials')"
   ]
  },
  {
   "cell_type": "code",
   "execution_count": 32,
   "metadata": {},
   "outputs": [
    {
     "data": {
      "text/plain": [
       "election_type\n",
       "GENERAL ELECTION                         3931522\n",
       "GENERAL ELECTION RUNOFF                  2109114\n",
       "PRESIDENTIAL PRIMARY                     1846418\n",
       "GENERAL PRIMARY ELECTION                  820096\n",
       "GENERAL PRIMARY RUNOFF                    463250\n",
       "GENERAL PRIMARY/SPECIAL ELECTION          192162\n",
       "PRESIDENTIAL PRIMARY/SPECIAL ELECTION     176686\n",
       "SPECIAL ELECTION                           73340\n",
       "MUNICIPAL ELECTION                          6047\n",
       "MUNICIPAL SPECIAL ELECTION                  5208\n",
       "SPECIAL PRIMARY RUNOFF                      2196\n",
       "MUNICIPAL SPECIAL ELECTION RUNOFF            996\n",
       "MUNICIPAL ELECTION RUNOFF                    800\n",
       "SPECIAL ELECTION RUNOFF                      420\n",
       "SPECIAL PRIMARY                              220\n",
       "MUNICIPAL RECALL ELECTION                      7\n",
       "Name: count, dtype: int64"
      ]
     },
     "execution_count": 32,
     "metadata": {},
     "output_type": "execute_result"
    }
   ],
   "source": [
    "# there are both \"GENERAL ELECTION\" values and \"GENERAL/SPECIAL ELECTION\" values, and the vast majority are not duplicates\n",
    "# I will use both values to filter and dedupe so that I am not missing 1/3 of the voters\n",
    "# it would be a good idea to run this same notebook on more recent tables to check how this process compares to what the state does to get their values filtered\n",
    "df.election_type.value_counts()"
   ]
  },
  {
   "cell_type": "code",
   "execution_count": 33,
   "metadata": {},
   "outputs": [],
   "source": [
    "filtered_date_df = df[df['election_date'] == election_date]"
   ]
  },
  {
   "cell_type": "code",
   "execution_count": 45,
   "metadata": {},
   "outputs": [],
   "source": [
    "filtered_election_df = df[(df['election_type'] == election_type1) | (df['election_type'] == election_type2) | (df['election_type'] == election_type3)]"
   ]
  },
  {
   "cell_type": "code",
   "execution_count": 47,
   "metadata": {},
   "outputs": [],
   "source": [
    "filtered_date_election_df = filtered_election_df[filtered_election_df['election_date'] == election_date]"
   ]
  },
  {
   "cell_type": "code",
   "execution_count": 49,
   "metadata": {},
   "outputs": [],
   "source": [
    "filtered_date_election_df.row_names = add_row_names(filtered_date_election_df['county_name'])"
   ]
  },
  {
   "cell_type": "code",
   "execution_count": 51,
   "metadata": {},
   "outputs": [
    {
     "data": {
      "text/html": [
       "<div>\n",
       "<style scoped>\n",
       "    .dataframe tbody tr th:only-of-type {\n",
       "        vertical-align: middle;\n",
       "    }\n",
       "\n",
       "    .dataframe tbody tr th {\n",
       "        vertical-align: top;\n",
       "    }\n",
       "\n",
       "    .dataframe thead th {\n",
       "        text-align: right;\n",
       "    }\n",
       "</style>\n",
       "<table border=\"1\" class=\"dataframe\">\n",
       "  <thead>\n",
       "    <tr style=\"text-align: right;\">\n",
       "      <th></th>\n",
       "      <th>row_names</th>\n",
       "      <th>county_name</th>\n",
       "      <th>voter_registration_number</th>\n",
       "      <th>election_date</th>\n",
       "      <th>election_type</th>\n",
       "      <th>party</th>\n",
       "      <th>ballot_style</th>\n",
       "      <th>absentee</th>\n",
       "      <th>provisional</th>\n",
       "      <th>supplemental</th>\n",
       "    </tr>\n",
       "  </thead>\n",
       "  <tbody>\n",
       "  </tbody>\n",
       "</table>\n",
       "</div>"
      ],
      "text/plain": [
       "Empty DataFrame\n",
       "Columns: [row_names, county_name, voter_registration_number, election_date, election_type, party, ballot_style, absentee, provisional, supplemental]\n",
       "Index: []"
      ]
     },
     "execution_count": 51,
     "metadata": {},
     "output_type": "execute_result"
    }
   ],
   "source": [
    "# it is hard to tell why there are duplicates with the general and general/special election types\n",
    "filtered_date_election_df[filtered_date_election_df['voter_registration_number'].duplicated(keep=False)].sort_values('voter_registration_number')"
   ]
  },
  {
   "cell_type": "code",
   "execution_count": 38,
   "metadata": {},
   "outputs": [],
   "source": [
    "deduped_df = filtered_date_election_df.drop_duplicates('voter_registration_number')"
   ]
  },
  {
   "cell_type": "code",
   "execution_count": 39,
   "metadata": {},
   "outputs": [
    {
     "data": {
      "text/plain": [
       "0"
      ]
     },
     "execution_count": 39,
     "metadata": {},
     "output_type": "execute_result"
    }
   ],
   "source": [
    "# there are 114 duplicated entries, and after deduping the DataFrame I have 114 fewer entries\n",
    "len(filtered_date_election_df) - len(deduped_df)"
   ]
  },
  {
   "cell_type": "code",
   "execution_count": 40,
   "metadata": {},
   "outputs": [
    {
     "data": {
      "text/plain": [
       "0"
      ]
     },
     "execution_count": 40,
     "metadata": {},
     "output_type": "execute_result"
    }
   ],
   "source": [
    "len(filtered_date_election_df[filtered_date_election_df['voter_registration_number'].duplicated()])"
   ]
  },
  {
   "cell_type": "code",
   "execution_count": 41,
   "metadata": {},
   "outputs": [
    {
     "data": {
      "text/plain": [
       "3931522"
      ]
     },
     "execution_count": 41,
     "metadata": {},
     "output_type": "execute_result"
    }
   ],
   "source": [
    "len(filtered_date_election_df.drop_duplicates('voter_registration_number'))"
   ]
  },
  {
   "cell_type": "code",
   "execution_count": 42,
   "metadata": {},
   "outputs": [
    {
     "data": {
      "text/html": [
       "<div>\n",
       "<style scoped>\n",
       "    .dataframe tbody tr th:only-of-type {\n",
       "        vertical-align: middle;\n",
       "    }\n",
       "\n",
       "    .dataframe tbody tr th {\n",
       "        vertical-align: top;\n",
       "    }\n",
       "\n",
       "    .dataframe thead th {\n",
       "        text-align: right;\n",
       "    }\n",
       "</style>\n",
       "<table border=\"1\" class=\"dataframe\">\n",
       "  <thead>\n",
       "    <tr style=\"text-align: right;\">\n",
       "      <th></th>\n",
       "      <th>row_names</th>\n",
       "      <th>county_name</th>\n",
       "      <th>voter_registration_number</th>\n",
       "      <th>election_date</th>\n",
       "      <th>election_type</th>\n",
       "      <th>party</th>\n",
       "      <th>ballot_style</th>\n",
       "      <th>absentee</th>\n",
       "      <th>provisional</th>\n",
       "      <th>supplemental</th>\n",
       "    </tr>\n",
       "  </thead>\n",
       "  <tbody>\n",
       "    <tr>\n",
       "      <th>0</th>\n",
       "      <td>1</td>\n",
       "      <td>APPLING</td>\n",
       "      <td>00004137</td>\n",
       "      <td>2008-11-04</td>\n",
       "      <td>GENERAL ELECTION</td>\n",
       "      <td></td>\n",
       "      <td></td>\n",
       "      <td></td>\n",
       "      <td></td>\n",
       "      <td></td>\n",
       "    </tr>\n",
       "    <tr>\n",
       "      <th>2</th>\n",
       "      <td>2</td>\n",
       "      <td>APPLING</td>\n",
       "      <td>00043572</td>\n",
       "      <td>2008-11-04</td>\n",
       "      <td>GENERAL ELECTION</td>\n",
       "      <td></td>\n",
       "      <td></td>\n",
       "      <td></td>\n",
       "      <td></td>\n",
       "      <td></td>\n",
       "    </tr>\n",
       "    <tr>\n",
       "      <th>3</th>\n",
       "      <td>3</td>\n",
       "      <td>APPLING</td>\n",
       "      <td>00045353</td>\n",
       "      <td>2008-11-04</td>\n",
       "      <td>GENERAL ELECTION</td>\n",
       "      <td></td>\n",
       "      <td></td>\n",
       "      <td></td>\n",
       "      <td></td>\n",
       "      <td></td>\n",
       "    </tr>\n",
       "    <tr>\n",
       "      <th>5</th>\n",
       "      <td>4</td>\n",
       "      <td>APPLING</td>\n",
       "      <td>00045572</td>\n",
       "      <td>2008-11-04</td>\n",
       "      <td>GENERAL ELECTION</td>\n",
       "      <td></td>\n",
       "      <td></td>\n",
       "      <td></td>\n",
       "      <td></td>\n",
       "      <td></td>\n",
       "    </tr>\n",
       "    <tr>\n",
       "      <th>8</th>\n",
       "      <td>5</td>\n",
       "      <td>APPLING</td>\n",
       "      <td>00045951</td>\n",
       "      <td>2008-11-04</td>\n",
       "      <td>GENERAL ELECTION</td>\n",
       "      <td></td>\n",
       "      <td></td>\n",
       "      <td>Y</td>\n",
       "      <td></td>\n",
       "      <td></td>\n",
       "    </tr>\n",
       "    <tr>\n",
       "      <th>11</th>\n",
       "      <td>6</td>\n",
       "      <td>APPLING</td>\n",
       "      <td>00047002</td>\n",
       "      <td>2008-11-04</td>\n",
       "      <td>GENERAL ELECTION</td>\n",
       "      <td></td>\n",
       "      <td></td>\n",
       "      <td></td>\n",
       "      <td></td>\n",
       "      <td></td>\n",
       "    </tr>\n",
       "    <tr>\n",
       "      <th>13</th>\n",
       "      <td>7</td>\n",
       "      <td>APPLING</td>\n",
       "      <td>00069178</td>\n",
       "      <td>2008-11-04</td>\n",
       "      <td>GENERAL ELECTION</td>\n",
       "      <td></td>\n",
       "      <td></td>\n",
       "      <td></td>\n",
       "      <td></td>\n",
       "      <td></td>\n",
       "    </tr>\n",
       "    <tr>\n",
       "      <th>17</th>\n",
       "      <td>8</td>\n",
       "      <td>APPLING</td>\n",
       "      <td>00122112</td>\n",
       "      <td>2008-11-04</td>\n",
       "      <td>GENERAL ELECTION</td>\n",
       "      <td></td>\n",
       "      <td></td>\n",
       "      <td>Y</td>\n",
       "      <td></td>\n",
       "      <td></td>\n",
       "    </tr>\n",
       "    <tr>\n",
       "      <th>20</th>\n",
       "      <td>9</td>\n",
       "      <td>APPLING</td>\n",
       "      <td>00172072</td>\n",
       "      <td>2008-11-04</td>\n",
       "      <td>GENERAL ELECTION</td>\n",
       "      <td></td>\n",
       "      <td></td>\n",
       "      <td>Y</td>\n",
       "      <td></td>\n",
       "      <td></td>\n",
       "    </tr>\n",
       "    <tr>\n",
       "      <th>23</th>\n",
       "      <td>10</td>\n",
       "      <td>APPLING</td>\n",
       "      <td>00174479</td>\n",
       "      <td>2008-11-04</td>\n",
       "      <td>GENERAL ELECTION</td>\n",
       "      <td></td>\n",
       "      <td></td>\n",
       "      <td>Y</td>\n",
       "      <td></td>\n",
       "      <td></td>\n",
       "    </tr>\n",
       "    <tr>\n",
       "      <th>24</th>\n",
       "      <td>11</td>\n",
       "      <td>APPLING</td>\n",
       "      <td>00175640</td>\n",
       "      <td>2008-11-04</td>\n",
       "      <td>GENERAL ELECTION</td>\n",
       "      <td></td>\n",
       "      <td></td>\n",
       "      <td>Y</td>\n",
       "      <td></td>\n",
       "      <td></td>\n",
       "    </tr>\n",
       "    <tr>\n",
       "      <th>25</th>\n",
       "      <td>12</td>\n",
       "      <td>APPLING</td>\n",
       "      <td>00192238</td>\n",
       "      <td>2008-11-04</td>\n",
       "      <td>GENERAL ELECTION</td>\n",
       "      <td></td>\n",
       "      <td></td>\n",
       "      <td></td>\n",
       "      <td></td>\n",
       "      <td></td>\n",
       "    </tr>\n",
       "    <tr>\n",
       "      <th>27</th>\n",
       "      <td>13</td>\n",
       "      <td>APPLING</td>\n",
       "      <td>00208346</td>\n",
       "      <td>2008-11-04</td>\n",
       "      <td>GENERAL ELECTION</td>\n",
       "      <td></td>\n",
       "      <td></td>\n",
       "      <td></td>\n",
       "      <td></td>\n",
       "      <td></td>\n",
       "    </tr>\n",
       "    <tr>\n",
       "      <th>31</th>\n",
       "      <td>14</td>\n",
       "      <td>APPLING</td>\n",
       "      <td>00245676</td>\n",
       "      <td>2008-11-04</td>\n",
       "      <td>GENERAL ELECTION</td>\n",
       "      <td></td>\n",
       "      <td></td>\n",
       "      <td></td>\n",
       "      <td></td>\n",
       "      <td></td>\n",
       "    </tr>\n",
       "    <tr>\n",
       "      <th>33</th>\n",
       "      <td>15</td>\n",
       "      <td>APPLING</td>\n",
       "      <td>00247150</td>\n",
       "      <td>2008-11-04</td>\n",
       "      <td>GENERAL ELECTION</td>\n",
       "      <td></td>\n",
       "      <td></td>\n",
       "      <td>Y</td>\n",
       "      <td></td>\n",
       "      <td></td>\n",
       "    </tr>\n",
       "    <tr>\n",
       "      <th>36</th>\n",
       "      <td>16</td>\n",
       "      <td>APPLING</td>\n",
       "      <td>00248674</td>\n",
       "      <td>2008-11-04</td>\n",
       "      <td>GENERAL ELECTION</td>\n",
       "      <td></td>\n",
       "      <td></td>\n",
       "      <td>Y</td>\n",
       "      <td></td>\n",
       "      <td></td>\n",
       "    </tr>\n",
       "    <tr>\n",
       "      <th>39</th>\n",
       "      <td>17</td>\n",
       "      <td>APPLING</td>\n",
       "      <td>00248967</td>\n",
       "      <td>2008-11-04</td>\n",
       "      <td>GENERAL ELECTION</td>\n",
       "      <td></td>\n",
       "      <td></td>\n",
       "      <td></td>\n",
       "      <td></td>\n",
       "      <td></td>\n",
       "    </tr>\n",
       "    <tr>\n",
       "      <th>41</th>\n",
       "      <td>18</td>\n",
       "      <td>APPLING</td>\n",
       "      <td>00274521</td>\n",
       "      <td>2008-11-04</td>\n",
       "      <td>GENERAL ELECTION</td>\n",
       "      <td></td>\n",
       "      <td></td>\n",
       "      <td></td>\n",
       "      <td></td>\n",
       "      <td></td>\n",
       "    </tr>\n",
       "    <tr>\n",
       "      <th>43</th>\n",
       "      <td>19</td>\n",
       "      <td>APPLING</td>\n",
       "      <td>00274523</td>\n",
       "      <td>2008-11-04</td>\n",
       "      <td>GENERAL ELECTION</td>\n",
       "      <td></td>\n",
       "      <td></td>\n",
       "      <td></td>\n",
       "      <td></td>\n",
       "      <td></td>\n",
       "    </tr>\n",
       "    <tr>\n",
       "      <th>45</th>\n",
       "      <td>20</td>\n",
       "      <td>APPLING</td>\n",
       "      <td>00274524</td>\n",
       "      <td>2008-11-04</td>\n",
       "      <td>GENERAL ELECTION</td>\n",
       "      <td></td>\n",
       "      <td></td>\n",
       "      <td></td>\n",
       "      <td></td>\n",
       "      <td></td>\n",
       "    </tr>\n",
       "  </tbody>\n",
       "</table>\n",
       "</div>"
      ],
      "text/plain": [
       "    row_names county_name voter_registration_number election_date  \\\n",
       "0           1     APPLING                  00004137    2008-11-04   \n",
       "2           2     APPLING                  00043572    2008-11-04   \n",
       "3           3     APPLING                  00045353    2008-11-04   \n",
       "5           4     APPLING                  00045572    2008-11-04   \n",
       "8           5     APPLING                  00045951    2008-11-04   \n",
       "11          6     APPLING                  00047002    2008-11-04   \n",
       "13          7     APPLING                  00069178    2008-11-04   \n",
       "17          8     APPLING                  00122112    2008-11-04   \n",
       "20          9     APPLING                  00172072    2008-11-04   \n",
       "23         10     APPLING                  00174479    2008-11-04   \n",
       "24         11     APPLING                  00175640    2008-11-04   \n",
       "25         12     APPLING                  00192238    2008-11-04   \n",
       "27         13     APPLING                  00208346    2008-11-04   \n",
       "31         14     APPLING                  00245676    2008-11-04   \n",
       "33         15     APPLING                  00247150    2008-11-04   \n",
       "36         16     APPLING                  00248674    2008-11-04   \n",
       "39         17     APPLING                  00248967    2008-11-04   \n",
       "41         18     APPLING                  00274521    2008-11-04   \n",
       "43         19     APPLING                  00274523    2008-11-04   \n",
       "45         20     APPLING                  00274524    2008-11-04   \n",
       "\n",
       "       election_type party ballot_style absentee provisional supplemental  \n",
       "0   GENERAL ELECTION                                                       \n",
       "2   GENERAL ELECTION                                                       \n",
       "3   GENERAL ELECTION                                                       \n",
       "5   GENERAL ELECTION                                                       \n",
       "8   GENERAL ELECTION                           Y                           \n",
       "11  GENERAL ELECTION                                                       \n",
       "13  GENERAL ELECTION                                                       \n",
       "17  GENERAL ELECTION                           Y                           \n",
       "20  GENERAL ELECTION                           Y                           \n",
       "23  GENERAL ELECTION                           Y                           \n",
       "24  GENERAL ELECTION                           Y                           \n",
       "25  GENERAL ELECTION                                                       \n",
       "27  GENERAL ELECTION                                                       \n",
       "31  GENERAL ELECTION                                                       \n",
       "33  GENERAL ELECTION                           Y                           \n",
       "36  GENERAL ELECTION                           Y                           \n",
       "39  GENERAL ELECTION                                                       \n",
       "41  GENERAL ELECTION                                                       \n",
       "43  GENERAL ELECTION                                                       \n",
       "45  GENERAL ELECTION                                                       "
      ]
     },
     "execution_count": 42,
     "metadata": {},
     "output_type": "execute_result"
    }
   ],
   "source": [
    "filtered_date_election_df.head(20)"
   ]
  },
  {
   "cell_type": "code",
   "execution_count": 54,
   "metadata": {},
   "outputs": [
    {
     "data": {
      "text/plain": [
       "election_type   \n",
       "GENERAL ELECTION    3931522\n",
       "Name: count, dtype: int64"
      ]
     },
     "execution_count": 54,
     "metadata": {},
     "output_type": "execute_result"
    }
   ],
   "source": [
    "filtered_date_election_df.value_counts(['election_type'])"
   ]
  },
  {
   "cell_type": "code",
   "execution_count": 44,
   "metadata": {},
   "outputs": [],
   "source": [
    "output_path = Path().cwd().parent.joinpath('output_csv/general_2008.csv')\n",
    "filtered_date_election_df.to_csv(output_path)"
   ]
  }
 ],
 "metadata": {
  "kernelspec": {
   "display_name": "Python 3",
   "language": "python",
   "name": "python3"
  },
  "language_info": {
   "codemirror_mode": {
    "name": "ipython",
    "version": 3
   },
   "file_extension": ".py",
   "mimetype": "text/x-python",
   "name": "python",
   "nbconvert_exporter": "python",
   "pygments_lexer": "ipython3",
   "version": "3.11.9"
  }
 },
 "nbformat": 4,
 "nbformat_minor": 2
}
